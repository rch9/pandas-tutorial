{
 "cells": [
  {
   "cell_type": "code",
   "execution_count": 1,
   "metadata": {},
   "outputs": [],
   "source": [
    "import pandas as pd"
   ]
  },
  {
   "cell_type": "code",
   "execution_count": 5,
   "metadata": {
    "tags": []
   },
   "outputs": [
    {
     "output_type": "execute_result",
     "data": {
      "text/plain": "   nominal       data     curs         cdx\n0        1 2017-09-01  58.5454  Доллар США\n1        1 2017-09-02  58.0557  Доллар США\n2        1 2017-09-05  57.7817  Доллар США\n3        1 2017-09-06  57.8503  Доллар США\n4        1 2017-09-07  57.3387  Доллар США",
      "text/html": "<div>\n<style scoped>\n    .dataframe tbody tr th:only-of-type {\n        vertical-align: middle;\n    }\n\n    .dataframe tbody tr th {\n        vertical-align: top;\n    }\n\n    .dataframe thead th {\n        text-align: right;\n    }\n</style>\n<table border=\"1\" class=\"dataframe\">\n  <thead>\n    <tr style=\"text-align: right;\">\n      <th></th>\n      <th>nominal</th>\n      <th>data</th>\n      <th>curs</th>\n      <th>cdx</th>\n    </tr>\n  </thead>\n  <tbody>\n    <tr>\n      <th>0</th>\n      <td>1</td>\n      <td>2017-09-01</td>\n      <td>58.5454</td>\n      <td>Доллар США</td>\n    </tr>\n    <tr>\n      <th>1</th>\n      <td>1</td>\n      <td>2017-09-02</td>\n      <td>58.0557</td>\n      <td>Доллар США</td>\n    </tr>\n    <tr>\n      <th>2</th>\n      <td>1</td>\n      <td>2017-09-05</td>\n      <td>57.7817</td>\n      <td>Доллар США</td>\n    </tr>\n    <tr>\n      <th>3</th>\n      <td>1</td>\n      <td>2017-09-06</td>\n      <td>57.8503</td>\n      <td>Доллар США</td>\n    </tr>\n    <tr>\n      <th>4</th>\n      <td>1</td>\n      <td>2017-09-07</td>\n      <td>57.3387</td>\n      <td>Доллар США</td>\n    </tr>\n  </tbody>\n</table>\n</div>"
     },
     "metadata": {},
     "execution_count": 5
    }
   ],
   "source": [
    "# https://pandas.pydata.org/pandas-docs/stable/reference/api/pandas.read_excel.html\n",
    "df_currency = pd.read_excel('datasets/3/currency_table.xlsx', sheet_name='RC')\n",
    "df_currency.head()"
   ]
  },
  {
   "cell_type": "code",
   "execution_count": 51,
   "metadata": {
    "tags": []
   },
   "outputs": [
    {
     "output_type": "stream",
     "name": "stdout",
     "text": "<class 'pandas.core.frame.DataFrame'>\nRangeIndex: 736 entries, 0 to 735\nData columns (total 4 columns):\n #   Column   Non-Null Count  Dtype         \n---  ------   --------------  -----         \n 0   nominal  736 non-null    int64         \n 1   data     736 non-null    datetime64[ns]\n 2   curs     736 non-null    float64       \n 3   cdx      736 non-null    object        \ndtypes: datetime64[ns](1), float64(1), int64(1), object(1)\nmemory usage: 23.1+ KB\n"
    }
   ],
   "source": [
    "# https://pandas.pydata.org/pandas-docs/stable/reference/api/pandas.read_excel.html\n",
    "with open('datasets/3/currency_table.xlsx', 'rb') as excel_file:\n",
    "    excel_content = excel_file.read()\n",
    "df_currency_2 = pd.read_excel(excel_content)\n",
    "df_currency_2"
   ]
  },
  {
   "cell_type": "code",
   "execution_count": 56,
   "metadata": {},
   "outputs": [
    {
     "output_type": "execute_result",
     "data": {
      "text/plain": "     nominal       data     curs         cdx\n0          1 2017-09-01  58,5454  Доллар США\n1          1 2017-09-02  58,0557  Доллар США\n2          1 2017-09-05  57,7817  Доллар США\n3          1 2017-09-06  57,8503  Доллар США\n4          1 2017-09-07  57,3387  Доллар США\n..       ...        ...      ...         ...\n731        1 2020-08-26  74,5126  Доллар США\n732        1 2020-08-27  75,5379  Доллар США\n733        1 2020-08-28  75,2354  Доллар США\n734        1 2020-08-29  74,6382  Доллар США\n735        1 2020-09-01  73,8039  Доллар США\n\n[736 rows x 4 columns]",
      "text/html": "<div>\n<style scoped>\n    .dataframe tbody tr th:only-of-type {\n        vertical-align: middle;\n    }\n\n    .dataframe tbody tr th {\n        vertical-align: top;\n    }\n\n    .dataframe thead th {\n        text-align: right;\n    }\n</style>\n<table border=\"1\" class=\"dataframe\">\n  <thead>\n    <tr style=\"text-align: right;\">\n      <th></th>\n      <th>nominal</th>\n      <th>data</th>\n      <th>curs</th>\n      <th>cdx</th>\n    </tr>\n  </thead>\n  <tbody>\n    <tr>\n      <th>0</th>\n      <td>1</td>\n      <td>2017-09-01</td>\n      <td>58,5454</td>\n      <td>Доллар США</td>\n    </tr>\n    <tr>\n      <th>1</th>\n      <td>1</td>\n      <td>2017-09-02</td>\n      <td>58,0557</td>\n      <td>Доллар США</td>\n    </tr>\n    <tr>\n      <th>2</th>\n      <td>1</td>\n      <td>2017-09-05</td>\n      <td>57,7817</td>\n      <td>Доллар США</td>\n    </tr>\n    <tr>\n      <th>3</th>\n      <td>1</td>\n      <td>2017-09-06</td>\n      <td>57,8503</td>\n      <td>Доллар США</td>\n    </tr>\n    <tr>\n      <th>4</th>\n      <td>1</td>\n      <td>2017-09-07</td>\n      <td>57,3387</td>\n      <td>Доллар США</td>\n    </tr>\n    <tr>\n      <th>...</th>\n      <td>...</td>\n      <td>...</td>\n      <td>...</td>\n      <td>...</td>\n    </tr>\n    <tr>\n      <th>731</th>\n      <td>1</td>\n      <td>2020-08-26</td>\n      <td>74,5126</td>\n      <td>Доллар США</td>\n    </tr>\n    <tr>\n      <th>732</th>\n      <td>1</td>\n      <td>2020-08-27</td>\n      <td>75,5379</td>\n      <td>Доллар США</td>\n    </tr>\n    <tr>\n      <th>733</th>\n      <td>1</td>\n      <td>2020-08-28</td>\n      <td>75,2354</td>\n      <td>Доллар США</td>\n    </tr>\n    <tr>\n      <th>734</th>\n      <td>1</td>\n      <td>2020-08-29</td>\n      <td>74,6382</td>\n      <td>Доллар США</td>\n    </tr>\n    <tr>\n      <th>735</th>\n      <td>1</td>\n      <td>2020-09-01</td>\n      <td>73,8039</td>\n      <td>Доллар США</td>\n    </tr>\n  </tbody>\n</table>\n<p>736 rows × 4 columns</p>\n</div>"
     },
     "metadata": {},
     "execution_count": 56
    }
   ],
   "source": [
    "# https://pandas.pydata.org/pandas-docs/stable/reference/api/pandas.read_csv.html\n",
    "custom_parser = lambda date: pd.datetime.strptime(date, '%d+%m+%Y')\n",
    "with open('datasets/3/currency_table_broken.csv', 'r') as csv_file:\n",
    "    df_currency_3 = pd.read_csv(csv_file, sep=';', parse_dates=['data'], date_parser=custom_parser)\n",
    "df_currency_3\n",
    "# OR:\n",
    "# import io \n",
    "# df_currency_3 = pd.read_csv(io.StringIO(csv_content))\n",
    "# df_currency_3\n",
    "# OR (s3fs needed):\n",
    "# pd.read_csv('s3://datasets/3/currency_table_broken.csv')"
   ]
  },
  {
   "cell_type": "code",
   "execution_count": 4,
   "metadata": {},
   "outputs": [
    {
     "output_type": "execute_result",
     "data": {
      "text/plain": "                                                    0  \\\n0                                                 NaN   \n1                                            Paradigm   \n2                                         Designed by   \n3                                           Developer   \n4                                      First appeared   \n5                                                 NaN   \n6                                      Stable release   \n7                                     Preview release   \n8                                   Typing discipline   \n9                                                  OS   \n10                                            License   \n11                                Filename extensions   \n12                                            Website   \n13                              Major implementations   \n14  CPython, PyPy, Stackless Python, MicroPython, ...   \n15                                           Dialects   \n16                       Cython, RPython, Starlark[7]   \n17                                      Influenced by   \n18  ABC,[8] Ada,[9] ALGOL 68,[10] APL,[11] C,[12] ...   \n19                                         Influenced   \n20  Apache Groovy, Boo, Cobra, CoffeeScript,[20] D...   \n21                    Python Programming at Wikibooks   \n\n                                                    1  \n0                                                 NaN  \n1   Multi-paradigm: functional, imperative, object...  \n2                                    Guido van Rossum  \n3                          Python Software Foundation  \n4                               1990; 30 years ago[1]  \n5                                                 NaN  \n6             3.9.0  / 5 October 2020; 17 days ago[2]  \n7          3.10.0a1  / 5 October 2020; 17 days ago[3]  \n8               Duck, dynamic, gradual (since 3.5)[4]  \n9                      Linux, macOS, Windows and more  \n10                 Python Software Foundation License  \n11  .py, .pyi, .pyc, .pyd, .pyo (prior to 3.5),[5]...  \n12                                     www.python.org  \n13                              Major implementations  \n14  CPython, PyPy, Stackless Python, MicroPython, ...  \n15                                           Dialects  \n16                       Cython, RPython, Starlark[7]  \n17                                      Influenced by  \n18  ABC,[8] Ada,[9] ALGOL 68,[10] APL,[11] C,[12] ...  \n19                                         Influenced  \n20  Apache Groovy, Boo, Cobra, CoffeeScript,[20] D...  \n21                    Python Programming at Wikibooks  ",
      "text/html": "<div>\n<style scoped>\n    .dataframe tbody tr th:only-of-type {\n        vertical-align: middle;\n    }\n\n    .dataframe tbody tr th {\n        vertical-align: top;\n    }\n\n    .dataframe thead th {\n        text-align: right;\n    }\n</style>\n<table border=\"1\" class=\"dataframe\">\n  <thead>\n    <tr style=\"text-align: right;\">\n      <th></th>\n      <th>0</th>\n      <th>1</th>\n    </tr>\n  </thead>\n  <tbody>\n    <tr>\n      <th>0</th>\n      <td>NaN</td>\n      <td>NaN</td>\n    </tr>\n    <tr>\n      <th>1</th>\n      <td>Paradigm</td>\n      <td>Multi-paradigm: functional, imperative, object...</td>\n    </tr>\n    <tr>\n      <th>2</th>\n      <td>Designed by</td>\n      <td>Guido van Rossum</td>\n    </tr>\n    <tr>\n      <th>3</th>\n      <td>Developer</td>\n      <td>Python Software Foundation</td>\n    </tr>\n    <tr>\n      <th>4</th>\n      <td>First appeared</td>\n      <td>1990; 30 years ago[1]</td>\n    </tr>\n    <tr>\n      <th>5</th>\n      <td>NaN</td>\n      <td>NaN</td>\n    </tr>\n    <tr>\n      <th>6</th>\n      <td>Stable release</td>\n      <td>3.9.0  / 5 October 2020; 17 days ago[2]</td>\n    </tr>\n    <tr>\n      <th>7</th>\n      <td>Preview release</td>\n      <td>3.10.0a1  / 5 October 2020; 17 days ago[3]</td>\n    </tr>\n    <tr>\n      <th>8</th>\n      <td>Typing discipline</td>\n      <td>Duck, dynamic, gradual (since 3.5)[4]</td>\n    </tr>\n    <tr>\n      <th>9</th>\n      <td>OS</td>\n      <td>Linux, macOS, Windows and more</td>\n    </tr>\n    <tr>\n      <th>10</th>\n      <td>License</td>\n      <td>Python Software Foundation License</td>\n    </tr>\n    <tr>\n      <th>11</th>\n      <td>Filename extensions</td>\n      <td>.py, .pyi, .pyc, .pyd, .pyo (prior to 3.5),[5]...</td>\n    </tr>\n    <tr>\n      <th>12</th>\n      <td>Website</td>\n      <td>www.python.org</td>\n    </tr>\n    <tr>\n      <th>13</th>\n      <td>Major implementations</td>\n      <td>Major implementations</td>\n    </tr>\n    <tr>\n      <th>14</th>\n      <td>CPython, PyPy, Stackless Python, MicroPython, ...</td>\n      <td>CPython, PyPy, Stackless Python, MicroPython, ...</td>\n    </tr>\n    <tr>\n      <th>15</th>\n      <td>Dialects</td>\n      <td>Dialects</td>\n    </tr>\n    <tr>\n      <th>16</th>\n      <td>Cython, RPython, Starlark[7]</td>\n      <td>Cython, RPython, Starlark[7]</td>\n    </tr>\n    <tr>\n      <th>17</th>\n      <td>Influenced by</td>\n      <td>Influenced by</td>\n    </tr>\n    <tr>\n      <th>18</th>\n      <td>ABC,[8] Ada,[9] ALGOL 68,[10] APL,[11] C,[12] ...</td>\n      <td>ABC,[8] Ada,[9] ALGOL 68,[10] APL,[11] C,[12] ...</td>\n    </tr>\n    <tr>\n      <th>19</th>\n      <td>Influenced</td>\n      <td>Influenced</td>\n    </tr>\n    <tr>\n      <th>20</th>\n      <td>Apache Groovy, Boo, Cobra, CoffeeScript,[20] D...</td>\n      <td>Apache Groovy, Boo, Cobra, CoffeeScript,[20] D...</td>\n    </tr>\n    <tr>\n      <th>21</th>\n      <td>Python Programming at Wikibooks</td>\n      <td>Python Programming at Wikibooks</td>\n    </tr>\n  </tbody>\n</table>\n</div>"
     },
     "metadata": {},
     "execution_count": 4
    }
   ],
   "source": [
    "import ssl\n",
    "ssl._create_default_https_context = ssl._create_unverified_context\n",
    "html_df_list = pd.read_html('https://en.wikipedia.org/wiki/Python_(programming_language)')\n",
    "df_html = html_df_list[0]\n",
    "df_html"
   ]
  },
  {
   "cell_type": "code",
   "execution_count": 8,
   "metadata": {},
   "outputs": [
    {
     "output_type": "execute_result",
     "data": {
      "text/plain": "                                                    0  \\\n1                                            Paradigm   \n2                                         Designed by   \n3                                           Developer   \n4                                      First appeared   \n6                                      Stable release   \n7                                     Preview release   \n8                                   Typing discipline   \n9                                                  OS   \n10                                            License   \n11                                Filename extensions   \n12                                            Website   \n13                              Major implementations   \n14  CPython, PyPy, Stackless Python, MicroPython, ...   \n15                                           Dialects   \n16                       Cython, RPython, Starlark[7]   \n17                                      Influenced by   \n18  ABC,[8] Ada,[9] ALGOL 68,[10] APL,[11] C,[12] ...   \n19                                         Influenced   \n20  Apache Groovy, Boo, Cobra, CoffeeScript,[20] D...   \n21                    Python Programming at Wikibooks   \n\n                                                    1  \n1   Multi-paradigm: functional, imperative, object...  \n2                                    Guido van Rossum  \n3                          Python Software Foundation  \n4                               1990; 30 years ago[1]  \n6             3.9.0  / 5 October 2020; 17 days ago[2]  \n7          3.10.0a1  / 5 October 2020; 17 days ago[3]  \n8               Duck, dynamic, gradual (since 3.5)[4]  \n9                      Linux, macOS, Windows and more  \n10                 Python Software Foundation License  \n11  .py, .pyi, .pyc, .pyd, .pyo (prior to 3.5),[5]...  \n12                                     www.python.org  \n13                              Major implementations  \n14  CPython, PyPy, Stackless Python, MicroPython, ...  \n15                                           Dialects  \n16                       Cython, RPython, Starlark[7]  \n17                                      Influenced by  \n18  ABC,[8] Ada,[9] ALGOL 68,[10] APL,[11] C,[12] ...  \n19                                         Influenced  \n20  Apache Groovy, Boo, Cobra, CoffeeScript,[20] D...  \n21                    Python Programming at Wikibooks  ",
      "text/html": "<div>\n<style scoped>\n    .dataframe tbody tr th:only-of-type {\n        vertical-align: middle;\n    }\n\n    .dataframe tbody tr th {\n        vertical-align: top;\n    }\n\n    .dataframe thead th {\n        text-align: right;\n    }\n</style>\n<table border=\"1\" class=\"dataframe\">\n  <thead>\n    <tr style=\"text-align: right;\">\n      <th></th>\n      <th>0</th>\n      <th>1</th>\n    </tr>\n  </thead>\n  <tbody>\n    <tr>\n      <th>1</th>\n      <td>Paradigm</td>\n      <td>Multi-paradigm: functional, imperative, object...</td>\n    </tr>\n    <tr>\n      <th>2</th>\n      <td>Designed by</td>\n      <td>Guido van Rossum</td>\n    </tr>\n    <tr>\n      <th>3</th>\n      <td>Developer</td>\n      <td>Python Software Foundation</td>\n    </tr>\n    <tr>\n      <th>4</th>\n      <td>First appeared</td>\n      <td>1990; 30 years ago[1]</td>\n    </tr>\n    <tr>\n      <th>6</th>\n      <td>Stable release</td>\n      <td>3.9.0  / 5 October 2020; 17 days ago[2]</td>\n    </tr>\n    <tr>\n      <th>7</th>\n      <td>Preview release</td>\n      <td>3.10.0a1  / 5 October 2020; 17 days ago[3]</td>\n    </tr>\n    <tr>\n      <th>8</th>\n      <td>Typing discipline</td>\n      <td>Duck, dynamic, gradual (since 3.5)[4]</td>\n    </tr>\n    <tr>\n      <th>9</th>\n      <td>OS</td>\n      <td>Linux, macOS, Windows and more</td>\n    </tr>\n    <tr>\n      <th>10</th>\n      <td>License</td>\n      <td>Python Software Foundation License</td>\n    </tr>\n    <tr>\n      <th>11</th>\n      <td>Filename extensions</td>\n      <td>.py, .pyi, .pyc, .pyd, .pyo (prior to 3.5),[5]...</td>\n    </tr>\n    <tr>\n      <th>12</th>\n      <td>Website</td>\n      <td>www.python.org</td>\n    </tr>\n    <tr>\n      <th>13</th>\n      <td>Major implementations</td>\n      <td>Major implementations</td>\n    </tr>\n    <tr>\n      <th>14</th>\n      <td>CPython, PyPy, Stackless Python, MicroPython, ...</td>\n      <td>CPython, PyPy, Stackless Python, MicroPython, ...</td>\n    </tr>\n    <tr>\n      <th>15</th>\n      <td>Dialects</td>\n      <td>Dialects</td>\n    </tr>\n    <tr>\n      <th>16</th>\n      <td>Cython, RPython, Starlark[7]</td>\n      <td>Cython, RPython, Starlark[7]</td>\n    </tr>\n    <tr>\n      <th>17</th>\n      <td>Influenced by</td>\n      <td>Influenced by</td>\n    </tr>\n    <tr>\n      <th>18</th>\n      <td>ABC,[8] Ada,[9] ALGOL 68,[10] APL,[11] C,[12] ...</td>\n      <td>ABC,[8] Ada,[9] ALGOL 68,[10] APL,[11] C,[12] ...</td>\n    </tr>\n    <tr>\n      <th>19</th>\n      <td>Influenced</td>\n      <td>Influenced</td>\n    </tr>\n    <tr>\n      <th>20</th>\n      <td>Apache Groovy, Boo, Cobra, CoffeeScript,[20] D...</td>\n      <td>Apache Groovy, Boo, Cobra, CoffeeScript,[20] D...</td>\n    </tr>\n    <tr>\n      <th>21</th>\n      <td>Python Programming at Wikibooks</td>\n      <td>Python Programming at Wikibooks</td>\n    </tr>\n  </tbody>\n</table>\n</div>"
     },
     "metadata": {},
     "execution_count": 8
    }
   ],
   "source": [
    "df_html.dropna()"
   ]
  },
  {
   "cell_type": "code",
   "execution_count": 10,
   "metadata": {},
   "outputs": [
    {
     "output_type": "execute_result",
     "data": {
      "text/plain": "'{\"0\":{\"0\":null,\"1\":\"Paradigm\",\"2\":\"Designed\\\\u00a0by\",\"3\":\"Developer\",\"4\":\"First\\\\u00a0appeared\",\"5\":null,\"6\":\"Stable release\",\"7\":\"Preview release\",\"8\":\"Typing discipline\",\"9\":\"OS\",\"10\":\"License\",\"11\":\"Filename extensions\",\"12\":\"Website\",\"13\":\"Major implementations\",\"14\":\"CPython, PyPy, Stackless Python, MicroPython, CircuitPython, IronPython, Jython, RustPython\",\"15\":\"Dialects\",\"16\":\"Cython, RPython, Starlark[7]\",\"17\":\"Influenced by\",\"18\":\"ABC,[8] Ada,[9] ALGOL 68,[10] APL,[11] C,[12] C++,[13] CLU,[14] Dylan,[15] Haskell,[16] Icon,[17] Java,[18] Lisp,[19] Modula-3,[13] Perl, Standard ML[11]\",\"19\":\"Influenced\",\"20\":\"Apache Groovy, Boo, Cobra, CoffeeScript,[20] D, F#, Genie,[21] Go, JavaScript,[22][23] Julia,[24] Nim, Ring,[25] Ruby,[26] Swift[27]\",\"21\":\"Python Programming at Wikibooks\"},\"1\":{\"0\":null,\"1\":\"Multi-paradigm: functional, imperative, object-oriented, structured, reflective\",\"2\":\"Guido van Rossum\",\"3\":\"Python Software Foundation\",\"4\":\"1990; 30\\\\u00a0years ago[1]\",\"5\":null,\"6\":\"3.9.0  \\\\/ 5\\\\u00a0October 2020; 17\\\\u00a0days ago[2]\",\"7\":\"3.10.0a1  \\\\/ 5\\\\u00a0October 2020; 17\\\\u00a0days ago[3]\",\"8\":\"Duck, dynamic, gradual (since 3.5)[4]\",\"9\":\"Linux, macOS, Windows and more\",\"10\":\"Python Software Foundation License\",\"11\":\".py, .pyi, .pyc, .pyd, .pyo (prior to 3.5),[5] .pyw, .pyz (since 3.5)[6]\",\"12\":\"www.python.org\",\"13\":\"Major implementations\",\"14\":\"CPython, PyPy, Stackless Python, MicroPython, CircuitPython, IronPython, Jython, RustPython\",\"15\":\"Dialects\",\"16\":\"Cython, RPython, Starlark[7]\",\"17\":\"Influenced by\",\"18\":\"ABC,[8] Ada,[9] ALGOL 68,[10] APL,[11] C,[12] C++,[13] CLU,[14] Dylan,[15] Haskell,[16] Icon,[17] Java,[18] Lisp,[19] Modula-3,[13] Perl, Standard ML[11]\",\"19\":\"Influenced\",\"20\":\"Apache Groovy, Boo, Cobra, CoffeeScript,[20] D, F#, Genie,[21] Go, JavaScript,[22][23] Julia,[24] Nim, Ring,[25] Ruby,[26] Swift[27]\",\"21\":\"Python Programming at Wikibooks\"}}'"
     },
     "metadata": {},
     "execution_count": 10
    }
   ],
   "source": [
    "# Есть аналогичные методы для записи:\n",
    "df_html.to_json()"
   ]
  },
  {
   "cell_type": "code",
   "execution_count": null,
   "metadata": {},
   "outputs": [],
   "source": [
    "# Есть аналогичные методы для записи:\n",
    "# - df.to_parquet(...)\n",
    "# - df.to_csv(...) \n",
    "# - \n",
    "#\n",
    "# Подробнее можно почитать тут:\n",
    "# https://pandas.pydata.org/pandas-docs/stable/reference/io.html"
   ]
  },
  {
   "cell_type": "code",
   "execution_count": 92,
   "metadata": {
    "tags": []
   },
   "outputs": [
    {
     "output_type": "execute_result",
     "data": {
      "text/plain": "2571928"
     },
     "metadata": {},
     "execution_count": 92
    }
   ],
   "source": [
    "df_google_play = pd.read_csv('datasets/3/googleplaystore_user_reviews.csv')\n",
    "df_google_play.memory_usage().sum()"
   ]
  },
  {
   "cell_type": "code",
   "execution_count": 97,
   "metadata": {
    "tags": []
   },
   "outputs": [
    {
     "output_type": "stream",
     "name": "stdout",
     "text": "Iterator:\t<class 'pandas.io.parsers.TextFileReader'>\nType:\t<class 'pandas.core.frame.DataFrame'>\nChunk memory usage\t400128\nType:\t<class 'pandas.core.frame.DataFrame'>\nChunk memory usage\t400132\nType:\t<class 'pandas.core.frame.DataFrame'>\nChunk memory usage\t400132\nType:\t<class 'pandas.core.frame.DataFrame'>\nChunk memory usage\t400132\nType:\t<class 'pandas.core.frame.DataFrame'>\nChunk memory usage\t400132\nType:\t<class 'pandas.core.frame.DataFrame'>\nChunk memory usage\t400132\nType:\t<class 'pandas.core.frame.DataFrame'>\nChunk memory usage\t171932\n\nResult sum size: 2572720\n"
    }
   ],
   "source": [
    "# Large dataset\n",
    "# https://towardsdatascience.com/why-and-how-to-use-pandas-with-large-data-9594dda2ea4c\n",
    "df_google_play_chunks = pd.read_csv('datasets/3/googleplaystore_user_reviews.csv', chunksize=10000)\n",
    "chunks_memory_usage = []\n",
    "print(f'Iterator:\\t{type(df_google_play_chunks)}')\n",
    "for df_chunk in df_google_play_chunks:\n",
    "    print(f'Type:\\t{type(df_chunk)}')\n",
    "    memory_usage = df_chunk.memory_usage().sum()\n",
    "    print(f'Chunk memory usage\\t{memory_usage}')\n",
    "    chunks_memory_usage.append(memory_usage)\n",
    "\n",
    "print(f'\\nResult sum size: {sum(chunks_memory_usage)}')"
   ]
  },
  {
   "cell_type": "code",
   "execution_count": 11,
   "metadata": {},
   "outputs": [],
   "source": [
    "# Также могут быть полезны:\n",
    "# - https://pypi.org/project/chardet/\n",
    "# - csv.Sniffer().sniff(csv_content).delimiter "
   ]
  },
  {
   "cell_type": "code",
   "execution_count": null,
   "metadata": {},
   "outputs": [],
   "source": []
  }
 ],
 "metadata": {
  "language_info": {
   "codemirror_mode": {
    "name": "ipython",
    "version": 3
   },
   "file_extension": ".py",
   "mimetype": "text/x-python",
   "name": "python",
   "nbconvert_exporter": "python",
   "pygments_lexer": "ipython3",
   "version": "3.8.2-final"
  },
  "orig_nbformat": 2,
  "kernelspec": {
   "name": "python_defaultSpec_1603313814772",
   "display_name": "Python 3.8.2 64-bit ('venv': virtualenv)"
  }
 },
 "nbformat": 4,
 "nbformat_minor": 2
}