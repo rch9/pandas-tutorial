{
 "cells": [
  {
   "cell_type": "code",
   "execution_count": 1,
   "metadata": {
    "tags": []
   },
   "outputs": [
    {
     "output_type": "execute_result",
     "data": {
      "text/plain": "                                                          Category  Rating  \\\nApp                                                                          \nSya9a Maroc - FR                                            FAMILY     4.5   \nFr. Mike Schmitz Audio Teachings                            FAMILY     5.0   \nParkinson Exercices FR                                     MEDICAL     NaN   \nThe SCP Foundation DB fr nn5n                  BOOKS_AND_REFERENCE     4.5   \niHoroscope - 2018 Daily Horoscope & Astrology            LIFESTYLE     4.5   \n\n                                              Reviews                Size  \\\nApp                                                                         \nSya9a Maroc - FR                                   38                 53M   \nFr. Mike Schmitz Audio Teachings                    4                3.6M   \nParkinson Exercices FR                              3                9.5M   \nThe SCP Foundation DB fr nn5n                     114  Varies with device   \niHoroscope - 2018 Daily Horoscope & Astrology  398307                 19M   \n\n                                                  Installs  Type Price  \\\nApp                                                                      \nSya9a Maroc - FR                                    5,000+  Free     0   \nFr. Mike Schmitz Audio Teachings                      100+  Free     0   \nParkinson Exercices FR                              1,000+  Free     0   \nThe SCP Foundation DB fr nn5n                       1,000+  Free     0   \niHoroscope - 2018 Daily Horoscope & Astrology  10,000,000+  Free     0   \n\n                                              Content Rating  \\\nApp                                                            \nSya9a Maroc - FR                                    Everyone   \nFr. Mike Schmitz Audio Teachings                    Everyone   \nParkinson Exercices FR                              Everyone   \nThe SCP Foundation DB fr nn5n                     Mature 17+   \niHoroscope - 2018 Daily Horoscope & Astrology       Everyone   \n\n                                                          Genres  \\\nApp                                                                \nSya9a Maroc - FR                                       Education   \nFr. Mike Schmitz Audio Teachings                       Education   \nParkinson Exercices FR                                   Medical   \nThe SCP Foundation DB fr nn5n                  Books & Reference   \niHoroscope - 2018 Daily Horoscope & Astrology          Lifestyle   \n\n                                                   Last Updated  \\\nApp                                                               \nSya9a Maroc - FR                                  July 25, 2017   \nFr. Mike Schmitz Audio Teachings                   July 6, 2018   \nParkinson Exercices FR                         January 20, 2017   \nThe SCP Foundation DB fr nn5n                  January 19, 2015   \niHoroscope - 2018 Daily Horoscope & Astrology     July 25, 2018   \n\n                                                      Current Ver  \\\nApp                                                                 \nSya9a Maroc - FR                                             1.48   \nFr. Mike Schmitz Audio Teachings                              1.0   \nParkinson Exercices FR                                        1.0   \nThe SCP Foundation DB fr nn5n                  Varies with device   \niHoroscope - 2018 Daily Horoscope & Astrology  Varies with device   \n\n                                                      Android Ver  \nApp                                                                \nSya9a Maroc - FR                                       4.1 and up  \nFr. Mike Schmitz Audio Teachings                       4.1 and up  \nParkinson Exercices FR                                 2.2 and up  \nThe SCP Foundation DB fr nn5n                  Varies with device  \niHoroscope - 2018 Daily Horoscope & Astrology  Varies with device  ",
      "text/html": "<div>\n<style scoped>\n    .dataframe tbody tr th:only-of-type {\n        vertical-align: middle;\n    }\n\n    .dataframe tbody tr th {\n        vertical-align: top;\n    }\n\n    .dataframe thead th {\n        text-align: right;\n    }\n</style>\n<table border=\"1\" class=\"dataframe\">\n  <thead>\n    <tr style=\"text-align: right;\">\n      <th></th>\n      <th>Category</th>\n      <th>Rating</th>\n      <th>Reviews</th>\n      <th>Size</th>\n      <th>Installs</th>\n      <th>Type</th>\n      <th>Price</th>\n      <th>Content Rating</th>\n      <th>Genres</th>\n      <th>Last Updated</th>\n      <th>Current Ver</th>\n      <th>Android Ver</th>\n    </tr>\n    <tr>\n      <th>App</th>\n      <th></th>\n      <th></th>\n      <th></th>\n      <th></th>\n      <th></th>\n      <th></th>\n      <th></th>\n      <th></th>\n      <th></th>\n      <th></th>\n      <th></th>\n      <th></th>\n    </tr>\n  </thead>\n  <tbody>\n    <tr>\n      <th>Sya9a Maroc - FR</th>\n      <td>FAMILY</td>\n      <td>4.5</td>\n      <td>38</td>\n      <td>53M</td>\n      <td>5,000+</td>\n      <td>Free</td>\n      <td>0</td>\n      <td>Everyone</td>\n      <td>Education</td>\n      <td>July 25, 2017</td>\n      <td>1.48</td>\n      <td>4.1 and up</td>\n    </tr>\n    <tr>\n      <th>Fr. Mike Schmitz Audio Teachings</th>\n      <td>FAMILY</td>\n      <td>5.0</td>\n      <td>4</td>\n      <td>3.6M</td>\n      <td>100+</td>\n      <td>Free</td>\n      <td>0</td>\n      <td>Everyone</td>\n      <td>Education</td>\n      <td>July 6, 2018</td>\n      <td>1.0</td>\n      <td>4.1 and up</td>\n    </tr>\n    <tr>\n      <th>Parkinson Exercices FR</th>\n      <td>MEDICAL</td>\n      <td>NaN</td>\n      <td>3</td>\n      <td>9.5M</td>\n      <td>1,000+</td>\n      <td>Free</td>\n      <td>0</td>\n      <td>Everyone</td>\n      <td>Medical</td>\n      <td>January 20, 2017</td>\n      <td>1.0</td>\n      <td>2.2 and up</td>\n    </tr>\n    <tr>\n      <th>The SCP Foundation DB fr nn5n</th>\n      <td>BOOKS_AND_REFERENCE</td>\n      <td>4.5</td>\n      <td>114</td>\n      <td>Varies with device</td>\n      <td>1,000+</td>\n      <td>Free</td>\n      <td>0</td>\n      <td>Mature 17+</td>\n      <td>Books &amp; Reference</td>\n      <td>January 19, 2015</td>\n      <td>Varies with device</td>\n      <td>Varies with device</td>\n    </tr>\n    <tr>\n      <th>iHoroscope - 2018 Daily Horoscope &amp; Astrology</th>\n      <td>LIFESTYLE</td>\n      <td>4.5</td>\n      <td>398307</td>\n      <td>19M</td>\n      <td>10,000,000+</td>\n      <td>Free</td>\n      <td>0</td>\n      <td>Everyone</td>\n      <td>Lifestyle</td>\n      <td>July 25, 2018</td>\n      <td>Varies with device</td>\n      <td>Varies with device</td>\n    </tr>\n  </tbody>\n</table>\n</div>"
     },
     "metadata": {},
     "execution_count": 1
    }
   ],
   "source": [
    "import pandas as pd\n",
    "import numpy as np\n",
    "\n",
    "df_google = pd.read_csv('datasets/googleplaystore.csv', index_col='App')\n",
    "\n",
    "# df = pd.read_csv('datasets/googleplaystore_user_reviews.csv')\n",
    "# df.dropna(subset=['Sentiment_Subjectivity'])\n",
    "df_google.tail()"
   ]
  },
  {
   "cell_type": "code",
   "execution_count": 2,
   "metadata": {
    "tags": []
   },
   "outputs": [
    {
     "output_type": "stream",
     "name": "stdout",
     "text": "<class 'pandas.core.frame.DataFrame'>\nIndex: 10841 entries, Photo Editor & Candy Camera & Grid & ScrapBook to iHoroscope - 2018 Daily Horoscope & Astrology\nData columns (total 12 columns):\n #   Column          Non-Null Count  Dtype  \n---  ------          --------------  -----  \n 0   Category        10841 non-null  object \n 1   Rating          9367 non-null   float64\n 2   Reviews         10841 non-null  object \n 3   Size            10841 non-null  object \n 4   Installs        10841 non-null  object \n 5   Type            10840 non-null  object \n 6   Price           10841 non-null  object \n 7   Content Rating  10840 non-null  object \n 8   Genres          10841 non-null  object \n 9   Last Updated    10841 non-null  object \n 10  Current Ver     10833 non-null  object \n 11  Android Ver     10838 non-null  object \ndtypes: float64(1), object(11)\nmemory usage: 1.1+ MB\n"
    }
   ],
   "source": [
    "df_google.info()"
   ]
  },
  {
   "cell_type": "code",
   "execution_count": 3,
   "metadata": {},
   "outputs": [],
   "source": [
    "# 1. Filter optim\n",
    "# df_google.filter(...)"
   ]
  },
  {
   "cell_type": "code",
   "execution_count": 4,
   "metadata": {
    "tags": []
   },
   "outputs": [
    {
     "output_type": "stream",
     "name": "stdout",
     "text": "531 µs ± 91.7 µs per loop (mean ± std. dev. of 7 runs, 1000 loops each)\n"
    }
   ],
   "source": [
    "%%timeit\n",
    "df_google.loc['Photo Editor & Candy Camera & Grid & ScrapBook', 'Installs']\n",
    "# df_google.loc['Sya9a Maroc - FR', 'Installs']"
   ]
  },
  {
   "cell_type": "code",
   "execution_count": 5,
   "metadata": {
    "tags": []
   },
   "outputs": [
    {
     "output_type": "stream",
     "name": "stdout",
     "text": "449 µs ± 143 µs per loop (mean ± std. dev. of 7 runs, 1000 loops each)\n"
    }
   ],
   "source": [
    "%%timeit\n",
    "df_google.at['Photo Editor & Candy Camera & Grid & ScrapBook', 'Installs']"
   ]
  },
  {
   "cell_type": "code",
   "execution_count": 6,
   "metadata": {},
   "outputs": [
    {
     "output_type": "execute_result",
     "data": {
      "text/plain": "                                                 App             Category  \\\n10836                               Sya9a Maroc - FR               FAMILY   \n10837               Fr. Mike Schmitz Audio Teachings               FAMILY   \n10838                         Parkinson Exercices FR              MEDICAL   \n10839                  The SCP Foundation DB fr nn5n  BOOKS_AND_REFERENCE   \n10840  iHoroscope - 2018 Daily Horoscope & Astrology            LIFESTYLE   \n\n       Rating Reviews                Size     Installs  Type Price  \\\n10836     4.5      38                 53M       5,000+  Free     0   \n10837     5.0       4                3.6M         100+  Free     0   \n10838     NaN       3                9.5M       1,000+  Free     0   \n10839     4.5     114  Varies with device       1,000+  Free     0   \n10840     4.5  398307                 19M  10,000,000+  Free     0   \n\n      Content Rating             Genres      Last Updated         Current Ver  \\\n10836       Everyone          Education     July 25, 2017                1.48   \n10837       Everyone          Education      July 6, 2018                 1.0   \n10838       Everyone            Medical  January 20, 2017                 1.0   \n10839     Mature 17+  Books & Reference  January 19, 2015  Varies with device   \n10840       Everyone          Lifestyle     July 25, 2018  Varies with device   \n\n              Android Ver  \n10836          4.1 and up  \n10837          4.1 and up  \n10838          2.2 and up  \n10839  Varies with device  \n10840  Varies with device  ",
      "text/html": "<div>\n<style scoped>\n    .dataframe tbody tr th:only-of-type {\n        vertical-align: middle;\n    }\n\n    .dataframe tbody tr th {\n        vertical-align: top;\n    }\n\n    .dataframe thead th {\n        text-align: right;\n    }\n</style>\n<table border=\"1\" class=\"dataframe\">\n  <thead>\n    <tr style=\"text-align: right;\">\n      <th></th>\n      <th>App</th>\n      <th>Category</th>\n      <th>Rating</th>\n      <th>Reviews</th>\n      <th>Size</th>\n      <th>Installs</th>\n      <th>Type</th>\n      <th>Price</th>\n      <th>Content Rating</th>\n      <th>Genres</th>\n      <th>Last Updated</th>\n      <th>Current Ver</th>\n      <th>Android Ver</th>\n    </tr>\n  </thead>\n  <tbody>\n    <tr>\n      <th>10836</th>\n      <td>Sya9a Maroc - FR</td>\n      <td>FAMILY</td>\n      <td>4.5</td>\n      <td>38</td>\n      <td>53M</td>\n      <td>5,000+</td>\n      <td>Free</td>\n      <td>0</td>\n      <td>Everyone</td>\n      <td>Education</td>\n      <td>July 25, 2017</td>\n      <td>1.48</td>\n      <td>4.1 and up</td>\n    </tr>\n    <tr>\n      <th>10837</th>\n      <td>Fr. Mike Schmitz Audio Teachings</td>\n      <td>FAMILY</td>\n      <td>5.0</td>\n      <td>4</td>\n      <td>3.6M</td>\n      <td>100+</td>\n      <td>Free</td>\n      <td>0</td>\n      <td>Everyone</td>\n      <td>Education</td>\n      <td>July 6, 2018</td>\n      <td>1.0</td>\n      <td>4.1 and up</td>\n    </tr>\n    <tr>\n      <th>10838</th>\n      <td>Parkinson Exercices FR</td>\n      <td>MEDICAL</td>\n      <td>NaN</td>\n      <td>3</td>\n      <td>9.5M</td>\n      <td>1,000+</td>\n      <td>Free</td>\n      <td>0</td>\n      <td>Everyone</td>\n      <td>Medical</td>\n      <td>January 20, 2017</td>\n      <td>1.0</td>\n      <td>2.2 and up</td>\n    </tr>\n    <tr>\n      <th>10839</th>\n      <td>The SCP Foundation DB fr nn5n</td>\n      <td>BOOKS_AND_REFERENCE</td>\n      <td>4.5</td>\n      <td>114</td>\n      <td>Varies with device</td>\n      <td>1,000+</td>\n      <td>Free</td>\n      <td>0</td>\n      <td>Mature 17+</td>\n      <td>Books &amp; Reference</td>\n      <td>January 19, 2015</td>\n      <td>Varies with device</td>\n      <td>Varies with device</td>\n    </tr>\n    <tr>\n      <th>10840</th>\n      <td>iHoroscope - 2018 Daily Horoscope &amp; Astrology</td>\n      <td>LIFESTYLE</td>\n      <td>4.5</td>\n      <td>398307</td>\n      <td>19M</td>\n      <td>10,000,000+</td>\n      <td>Free</td>\n      <td>0</td>\n      <td>Everyone</td>\n      <td>Lifestyle</td>\n      <td>July 25, 2018</td>\n      <td>Varies with device</td>\n      <td>Varies with device</td>\n    </tr>\n  </tbody>\n</table>\n</div>"
     },
     "metadata": {},
     "execution_count": 6
    }
   ],
   "source": [
    "df_google_no_index = df_google.reset_index()\n",
    "df_google_no_index.tail()"
   ]
  },
  {
   "cell_type": "code",
   "execution_count": 7,
   "metadata": {
    "tags": []
   },
   "outputs": [
    {
     "output_type": "stream",
     "name": "stdout",
     "text": "1.02 ms ± 137 µs per loop (mean ± std. dev. of 7 runs, 1000 loops each)\n"
    }
   ],
   "source": [
    "%%timeit\n",
    "df_google_no_index.loc[df_google_no_index['App'] == 'Sya9a Maroc - FR', 'Installs']"
   ]
  },
  {
   "cell_type": "code",
   "execution_count": 8,
   "metadata": {
    "tags": []
   },
   "outputs": [
    {
     "output_type": "stream",
     "name": "stdout",
     "text": "133 µs ± 18.9 µs per loop (mean ± std. dev. of 7 runs, 1000 loops each)\n"
    }
   ],
   "source": [
    "%%timeit \n",
    "df_google_no_index.iloc[10840]['Installs']"
   ]
  },
  {
   "cell_type": "code",
   "execution_count": 9,
   "metadata": {},
   "outputs": [
    {
     "output_type": "execute_result",
     "data": {
      "text/plain": "                               App  \\\n0            10 Best Foods for You   \n1            10 Best Foods for You   \n2            10 Best Foods for You   \n3            10 Best Foods for You   \n4            10 Best Foods for You   \n...                            ...   \n64290  Houzz Interior Design Ideas   \n64291  Houzz Interior Design Ideas   \n64292  Houzz Interior Design Ideas   \n64293  Houzz Interior Design Ideas   \n64294  Houzz Interior Design Ideas   \n\n                                       Translated_Review Sentiment  \\\n0      I like eat delicious food. That's I'm cooking ...  Positive   \n1        This help eating healthy exercise regular basis  Positive   \n2                                                    NaN       NaN   \n3             Works great especially going grocery store  Positive   \n4                                           Best idea us  Positive   \n...                                                  ...       ...   \n64290                                                NaN       NaN   \n64291                                                NaN       NaN   \n64292                                                NaN       NaN   \n64293                                                NaN       NaN   \n64294                                                NaN       NaN   \n\n       Sentiment_Polarity  Sentiment_Subjectivity  \n0                    1.00                0.533333  \n1                    0.25                0.288462  \n2                     NaN                     NaN  \n3                    0.40                0.875000  \n4                    1.00                0.300000  \n...                   ...                     ...  \n64290                 NaN                     NaN  \n64291                 NaN                     NaN  \n64292                 NaN                     NaN  \n64293                 NaN                     NaN  \n64294                 NaN                     NaN  \n\n[64295 rows x 5 columns]",
      "text/html": "<div>\n<style scoped>\n    .dataframe tbody tr th:only-of-type {\n        vertical-align: middle;\n    }\n\n    .dataframe tbody tr th {\n        vertical-align: top;\n    }\n\n    .dataframe thead th {\n        text-align: right;\n    }\n</style>\n<table border=\"1\" class=\"dataframe\">\n  <thead>\n    <tr style=\"text-align: right;\">\n      <th></th>\n      <th>App</th>\n      <th>Translated_Review</th>\n      <th>Sentiment</th>\n      <th>Sentiment_Polarity</th>\n      <th>Sentiment_Subjectivity</th>\n    </tr>\n  </thead>\n  <tbody>\n    <tr>\n      <th>0</th>\n      <td>10 Best Foods for You</td>\n      <td>I like eat delicious food. That's I'm cooking ...</td>\n      <td>Positive</td>\n      <td>1.00</td>\n      <td>0.533333</td>\n    </tr>\n    <tr>\n      <th>1</th>\n      <td>10 Best Foods for You</td>\n      <td>This help eating healthy exercise regular basis</td>\n      <td>Positive</td>\n      <td>0.25</td>\n      <td>0.288462</td>\n    </tr>\n    <tr>\n      <th>2</th>\n      <td>10 Best Foods for You</td>\n      <td>NaN</td>\n      <td>NaN</td>\n      <td>NaN</td>\n      <td>NaN</td>\n    </tr>\n    <tr>\n      <th>3</th>\n      <td>10 Best Foods for You</td>\n      <td>Works great especially going grocery store</td>\n      <td>Positive</td>\n      <td>0.40</td>\n      <td>0.875000</td>\n    </tr>\n    <tr>\n      <th>4</th>\n      <td>10 Best Foods for You</td>\n      <td>Best idea us</td>\n      <td>Positive</td>\n      <td>1.00</td>\n      <td>0.300000</td>\n    </tr>\n    <tr>\n      <th>...</th>\n      <td>...</td>\n      <td>...</td>\n      <td>...</td>\n      <td>...</td>\n      <td>...</td>\n    </tr>\n    <tr>\n      <th>64290</th>\n      <td>Houzz Interior Design Ideas</td>\n      <td>NaN</td>\n      <td>NaN</td>\n      <td>NaN</td>\n      <td>NaN</td>\n    </tr>\n    <tr>\n      <th>64291</th>\n      <td>Houzz Interior Design Ideas</td>\n      <td>NaN</td>\n      <td>NaN</td>\n      <td>NaN</td>\n      <td>NaN</td>\n    </tr>\n    <tr>\n      <th>64292</th>\n      <td>Houzz Interior Design Ideas</td>\n      <td>NaN</td>\n      <td>NaN</td>\n      <td>NaN</td>\n      <td>NaN</td>\n    </tr>\n    <tr>\n      <th>64293</th>\n      <td>Houzz Interior Design Ideas</td>\n      <td>NaN</td>\n      <td>NaN</td>\n      <td>NaN</td>\n      <td>NaN</td>\n    </tr>\n    <tr>\n      <th>64294</th>\n      <td>Houzz Interior Design Ideas</td>\n      <td>NaN</td>\n      <td>NaN</td>\n      <td>NaN</td>\n      <td>NaN</td>\n    </tr>\n  </tbody>\n</table>\n<p>64295 rows × 5 columns</p>\n</div>"
     },
     "metadata": {},
     "execution_count": 9
    }
   ],
   "source": [
    "# 3. Vector operations\n",
    "df_reviews = pd.read_csv('datasets/googleplaystore_user_reviews.csv')\n",
    "df_reviews"
   ]
  },
  {
   "cell_type": "code",
   "execution_count": 10,
   "metadata": {
    "tags": []
   },
   "outputs": [
    {
     "output_type": "stream",
     "name": "stdout",
     "text": "<class 'pandas.core.frame.DataFrame'>\nRangeIndex: 64295 entries, 0 to 64294\nData columns (total 5 columns):\n #   Column                  Non-Null Count  Dtype  \n---  ------                  --------------  -----  \n 0   App                     64295 non-null  object \n 1   Translated_Review       37427 non-null  object \n 2   Sentiment               37432 non-null  object \n 3   Sentiment_Polarity      37432 non-null  float64\n 4   Sentiment_Subjectivity  37432 non-null  float64\ndtypes: float64(2), object(3)\nmemory usage: 2.5+ MB\n"
    }
   ],
   "source": [
    "df_reviews.info()"
   ]
  },
  {
   "cell_type": "code",
   "execution_count": 11,
   "metadata": {
    "tags": []
   },
   "outputs": [
    {
     "output_type": "stream",
     "name": "stdout",
     "text": "<class 'pandas.core.frame.DataFrame'>\nRangeIndex: 64295 entries, 0 to 64294\nData columns (total 5 columns):\n #   Column                  Non-Null Count  Dtype  \n---  ------                  --------------  -----  \n 0   App                     64295 non-null  object \n 1   Translated_Review       37427 non-null  object \n 2   Sentiment               37432 non-null  object \n 3   Sentiment_Polarity      37432 non-null  float32\n 4   Sentiment_Subjectivity  37432 non-null  float32\ndtypes: float32(2), object(3)\nmemory usage: 2.0+ MB\n"
    }
   ],
   "source": [
    "df_reviews_32 = df_reviews.astype({'Sentiment_Polarity': 'float32', 'Sentiment_Subjectivity': 'float32'})\n",
    "df_reviews_32.info()"
   ]
  },
  {
   "cell_type": "code",
   "execution_count": 12,
   "metadata": {
    "tags": []
   },
   "outputs": [
    {
     "output_type": "stream",
     "name": "stdout",
     "text": "1.58 ms ± 224 µs per loop (mean ± std. dev. of 7 runs, 1000 loops each)\n"
    }
   ],
   "source": [
    "%%timeit\n",
    "((df_reviews['Sentiment_Polarity'] + df_reviews['Sentiment_Subjectivity']) / 2) ** 3"
   ]
  },
  {
   "cell_type": "code",
   "execution_count": 13,
   "metadata": {
    "tags": []
   },
   "outputs": [
    {
     "output_type": "stream",
     "name": "stdout",
     "text": "1.7 ms ± 97.8 µs per loop (mean ± std. dev. of 7 runs, 100 loops each)\n"
    }
   ],
   "source": [
    "%%timeit\n",
    "(df_reviews['Sentiment_Polarity'] / 2 + df_reviews['Sentiment_Subjectivity'] / 2) ** 3"
   ]
  },
  {
   "cell_type": "code",
   "execution_count": 14,
   "metadata": {
    "tags": []
   },
   "outputs": [
    {
     "output_type": "stream",
     "name": "stdout",
     "text": "1.15 ms ± 80.1 µs per loop (mean ± std. dev. of 7 runs, 1000 loops each)\n"
    }
   ],
   "source": [
    "%%timeit\n",
    "((df_reviews_32['Sentiment_Polarity'] + df_reviews_32['Sentiment_Subjectivity']) / 2) ** 3"
   ]
  },
  {
   "cell_type": "code",
   "execution_count": 15,
   "metadata": {
    "tags": []
   },
   "outputs": [
    {
     "output_type": "stream",
     "name": "stdout",
     "text": "1.22 ms ± 12.1 µs per loop (mean ± std. dev. of 7 runs, 1000 loops each)\n"
    }
   ],
   "source": [
    "%%timeit\n",
    "(df_reviews_32['Sentiment_Polarity'] / 2 + df_reviews_32['Sentiment_Subjectivity'] / 2) ** 3"
   ]
  },
  {
   "cell_type": "code",
   "execution_count": 16,
   "metadata": {
    "tags": []
   },
   "outputs": [
    {
     "output_type": "stream",
     "name": "stdout",
     "text": "<class 'pandas.core.frame.DataFrame'>\nRangeIndex: 64295 entries, 0 to 64294\nData columns (total 5 columns):\n #   Column                  Non-Null Count  Dtype  \n---  ------                  --------------  -----  \n 0   App                     64295 non-null  object \n 1   Translated_Review       37427 non-null  object \n 2   Sentiment               37432 non-null  object \n 3   Sentiment_Polarity      37432 non-null  float64\n 4   Sentiment_Subjectivity  37432 non-null  float64\ndtypes: float64(2), object(3)\nmemory usage: 2.5+ MB\n"
    }
   ],
   "source": [
    "# 4. Categorical data\n",
    "df_reviews.info()"
   ]
  },
  {
   "cell_type": "code",
   "execution_count": 17,
   "metadata": {},
   "outputs": [
    {
     "output_type": "execute_result",
     "data": {
      "text/plain": "                     App                                  Translated_Review  \\\n0  10 Best Foods for You  I like eat delicious food. That's I'm cooking ...   \n1  10 Best Foods for You    This help eating healthy exercise regular basis   \n2  10 Best Foods for You                                                NaN   \n3  10 Best Foods for You         Works great especially going grocery store   \n4  10 Best Foods for You                                       Best idea us   \n\n  Sentiment  Sentiment_Polarity  Sentiment_Subjectivity  \n0  Positive                1.00                0.533333  \n1  Positive                0.25                0.288462  \n2       NaN                 NaN                     NaN  \n3  Positive                0.40                0.875000  \n4  Positive                1.00                0.300000  ",
      "text/html": "<div>\n<style scoped>\n    .dataframe tbody tr th:only-of-type {\n        vertical-align: middle;\n    }\n\n    .dataframe tbody tr th {\n        vertical-align: top;\n    }\n\n    .dataframe thead th {\n        text-align: right;\n    }\n</style>\n<table border=\"1\" class=\"dataframe\">\n  <thead>\n    <tr style=\"text-align: right;\">\n      <th></th>\n      <th>App</th>\n      <th>Translated_Review</th>\n      <th>Sentiment</th>\n      <th>Sentiment_Polarity</th>\n      <th>Sentiment_Subjectivity</th>\n    </tr>\n  </thead>\n  <tbody>\n    <tr>\n      <th>0</th>\n      <td>10 Best Foods for You</td>\n      <td>I like eat delicious food. That's I'm cooking ...</td>\n      <td>Positive</td>\n      <td>1.00</td>\n      <td>0.533333</td>\n    </tr>\n    <tr>\n      <th>1</th>\n      <td>10 Best Foods for You</td>\n      <td>This help eating healthy exercise regular basis</td>\n      <td>Positive</td>\n      <td>0.25</td>\n      <td>0.288462</td>\n    </tr>\n    <tr>\n      <th>2</th>\n      <td>10 Best Foods for You</td>\n      <td>NaN</td>\n      <td>NaN</td>\n      <td>NaN</td>\n      <td>NaN</td>\n    </tr>\n    <tr>\n      <th>3</th>\n      <td>10 Best Foods for You</td>\n      <td>Works great especially going grocery store</td>\n      <td>Positive</td>\n      <td>0.40</td>\n      <td>0.875000</td>\n    </tr>\n    <tr>\n      <th>4</th>\n      <td>10 Best Foods for You</td>\n      <td>Best idea us</td>\n      <td>Positive</td>\n      <td>1.00</td>\n      <td>0.300000</td>\n    </tr>\n  </tbody>\n</table>\n</div>"
     },
     "metadata": {},
     "execution_count": 17
    }
   ],
   "source": [
    "df_reviews.head()"
   ]
  },
  {
   "cell_type": "code",
   "execution_count": 18,
   "metadata": {},
   "outputs": [
    {
     "output_type": "execute_result",
     "data": {
      "text/plain": "1074"
     },
     "metadata": {},
     "execution_count": 18
    }
   ],
   "source": [
    "len(df_reviews['App'].unique())"
   ]
  },
  {
   "cell_type": "code",
   "execution_count": 19,
   "metadata": {},
   "outputs": [
    {
     "output_type": "execute_result",
     "data": {
      "text/plain": "514488"
     },
     "metadata": {},
     "execution_count": 19
    }
   ],
   "source": [
    "df_reviews['App'].memory_usage()"
   ]
  },
  {
   "cell_type": "code",
   "execution_count": 20,
   "metadata": {},
   "outputs": [
    {
     "output_type": "execute_result",
     "data": {
      "text/plain": "178270"
     },
     "metadata": {},
     "execution_count": 20
    }
   ],
   "source": [
    "df_reviews['App'].astype('category').memory_usage()"
   ]
  },
  {
   "cell_type": "code",
   "execution_count": 21,
   "metadata": {
    "tags": []
   },
   "outputs": [
    {
     "output_type": "stream",
     "name": "stdout",
     "text": "<class 'pandas.core.frame.DataFrame'>\nRangeIndex: 64295 entries, 0 to 64294\nData columns (total 5 columns):\n #   Column                  Non-Null Count  Dtype   \n---  ------                  --------------  -----   \n 0   App                     64295 non-null  category\n 1   Translated_Review       37427 non-null  object  \n 2   Sentiment               37432 non-null  object  \n 3   Sentiment_Polarity      37432 non-null  float64 \n 4   Sentiment_Subjectivity  37432 non-null  float64 \ndtypes: category(1), float64(2), object(2)\nmemory usage: 2.1+ MB\n"
    }
   ],
   "source": [
    "df_reviews_category = df_reviews.astype({'App': 'category'})\n",
    "df_reviews_category.info()"
   ]
  },
  {
   "cell_type": "code",
   "execution_count": 22,
   "metadata": {
    "tags": []
   },
   "outputs": [
    {
     "output_type": "stream",
     "name": "stdout",
     "text": "7.49 ms ± 1.61 ms per loop (mean ± std. dev. of 7 runs, 100 loops each)\n"
    }
   ],
   "source": [
    "%%timeit\n",
    "df_reviews.groupby('App').mean()"
   ]
  },
  {
   "cell_type": "code",
   "execution_count": 23,
   "metadata": {
    "tags": []
   },
   "outputs": [
    {
     "output_type": "stream",
     "name": "stdout",
     "text": "4.32 ms ± 943 µs per loop (mean ± std. dev. of 7 runs, 100 loops each)\n"
    }
   ],
   "source": [
    "%%timeit\n",
    "df_reviews_category.groupby('App').mean()"
   ]
  },
  {
   "cell_type": "code",
   "execution_count": 24,
   "metadata": {},
   "outputs": [
    {
     "output_type": "execute_result",
     "data": {
      "text/plain": "                                                Sentiment_Polarity  \\\nApp                                                                  \n10 Best Foods for You                                     0.470733   \n104 找工作 - 找工作 找打工 找兼職 履歷健檢 履歷診療室                          0.392405   \n11st                                                      0.181294   \n1800 Contacts - Lens Store                                0.318145   \n1LINE – One Line with One Touch                           0.196290   \n...                                                            ...   \nHotspot Shield Free VPN Proxy & Wi-Fi Security            0.251765   \nHotstar                                                   0.038178   \nHotwire Hotel & Car Rental App                            0.187029   \nHousing-Real Estate & Property                           -0.021427   \nHouzz Interior Design Ideas                                    NaN   \n\n                                                Sentiment_Subjectivity  \nApp                                                                     \n10 Best Foods for You                                         0.495455  \n104 找工作 - 找工作 找打工 找兼職 履歷健檢 履歷診療室                              0.545516  \n11st                                                          0.443957  \n1800 Contacts - Lens Store                                    0.591098  \n1LINE – One Line with One Touch                               0.557315  \n...                                                                ...  \nHotspot Shield Free VPN Proxy & Wi-Fi Security                0.393284  \nHotstar                                                       0.493964  \nHotwire Hotel & Car Rental App                                0.459717  \nHousing-Real Estate & Property                                0.378532  \nHouzz Interior Design Ideas                                        NaN  \n\n[1074 rows x 2 columns]",
      "text/html": "<div>\n<style scoped>\n    .dataframe tbody tr th:only-of-type {\n        vertical-align: middle;\n    }\n\n    .dataframe tbody tr th {\n        vertical-align: top;\n    }\n\n    .dataframe thead th {\n        text-align: right;\n    }\n</style>\n<table border=\"1\" class=\"dataframe\">\n  <thead>\n    <tr style=\"text-align: right;\">\n      <th></th>\n      <th>Sentiment_Polarity</th>\n      <th>Sentiment_Subjectivity</th>\n    </tr>\n    <tr>\n      <th>App</th>\n      <th></th>\n      <th></th>\n    </tr>\n  </thead>\n  <tbody>\n    <tr>\n      <th>10 Best Foods for You</th>\n      <td>0.470733</td>\n      <td>0.495455</td>\n    </tr>\n    <tr>\n      <th>104 找工作 - 找工作 找打工 找兼職 履歷健檢 履歷診療室</th>\n      <td>0.392405</td>\n      <td>0.545516</td>\n    </tr>\n    <tr>\n      <th>11st</th>\n      <td>0.181294</td>\n      <td>0.443957</td>\n    </tr>\n    <tr>\n      <th>1800 Contacts - Lens Store</th>\n      <td>0.318145</td>\n      <td>0.591098</td>\n    </tr>\n    <tr>\n      <th>1LINE – One Line with One Touch</th>\n      <td>0.196290</td>\n      <td>0.557315</td>\n    </tr>\n    <tr>\n      <th>...</th>\n      <td>...</td>\n      <td>...</td>\n    </tr>\n    <tr>\n      <th>Hotspot Shield Free VPN Proxy &amp; Wi-Fi Security</th>\n      <td>0.251765</td>\n      <td>0.393284</td>\n    </tr>\n    <tr>\n      <th>Hotstar</th>\n      <td>0.038178</td>\n      <td>0.493964</td>\n    </tr>\n    <tr>\n      <th>Hotwire Hotel &amp; Car Rental App</th>\n      <td>0.187029</td>\n      <td>0.459717</td>\n    </tr>\n    <tr>\n      <th>Housing-Real Estate &amp; Property</th>\n      <td>-0.021427</td>\n      <td>0.378532</td>\n    </tr>\n    <tr>\n      <th>Houzz Interior Design Ideas</th>\n      <td>NaN</td>\n      <td>NaN</td>\n    </tr>\n  </tbody>\n</table>\n<p>1074 rows × 2 columns</p>\n</div>"
     },
     "metadata": {},
     "execution_count": 24
    }
   ],
   "source": [
    "df_reviews_category.groupby('App').mean()"
   ]
  },
  {
   "cell_type": "code",
   "execution_count": 25,
   "metadata": {},
   "outputs": [
    {
     "output_type": "execute_result",
     "data": {
      "text/plain": "                                                Sentiment_Polarity  \\\nApp                                                                  \n10 Best Foods for You                                     0.470733   \n104 找工作 - 找工作 找打工 找兼職 履歷健檢 履歷診療室                          0.392405   \n11st                                                      0.181294   \n1800 Contacts - Lens Store                                0.318145   \n1LINE – One Line with One Touch                           0.196290   \n...                                                            ...   \nHotspot Shield Free VPN Proxy & Wi-Fi Security            0.251765   \nHotstar                                                   0.038178   \nHotwire Hotel & Car Rental App                            0.187029   \nHousing-Real Estate & Property                           -0.021427   \nHouzz Interior Design Ideas                                    NaN   \n\n                                                Sentiment_Subjectivity  \nApp                                                                     \n10 Best Foods for You                                         0.495455  \n104 找工作 - 找工作 找打工 找兼職 履歷健檢 履歷診療室                              0.545516  \n11st                                                          0.443957  \n1800 Contacts - Lens Store                                    0.591098  \n1LINE – One Line with One Touch                               0.557315  \n...                                                                ...  \nHotspot Shield Free VPN Proxy & Wi-Fi Security                0.393284  \nHotstar                                                       0.493964  \nHotwire Hotel & Car Rental App                                0.459717  \nHousing-Real Estate & Property                                0.378532  \nHouzz Interior Design Ideas                                        NaN  \n\n[1074 rows x 2 columns]",
      "text/html": "<div>\n<style scoped>\n    .dataframe tbody tr th:only-of-type {\n        vertical-align: middle;\n    }\n\n    .dataframe tbody tr th {\n        vertical-align: top;\n    }\n\n    .dataframe thead th {\n        text-align: right;\n    }\n</style>\n<table border=\"1\" class=\"dataframe\">\n  <thead>\n    <tr style=\"text-align: right;\">\n      <th></th>\n      <th>Sentiment_Polarity</th>\n      <th>Sentiment_Subjectivity</th>\n    </tr>\n    <tr>\n      <th>App</th>\n      <th></th>\n      <th></th>\n    </tr>\n  </thead>\n  <tbody>\n    <tr>\n      <th>10 Best Foods for You</th>\n      <td>0.470733</td>\n      <td>0.495455</td>\n    </tr>\n    <tr>\n      <th>104 找工作 - 找工作 找打工 找兼職 履歷健檢 履歷診療室</th>\n      <td>0.392405</td>\n      <td>0.545516</td>\n    </tr>\n    <tr>\n      <th>11st</th>\n      <td>0.181294</td>\n      <td>0.443957</td>\n    </tr>\n    <tr>\n      <th>1800 Contacts - Lens Store</th>\n      <td>0.318145</td>\n      <td>0.591098</td>\n    </tr>\n    <tr>\n      <th>1LINE – One Line with One Touch</th>\n      <td>0.196290</td>\n      <td>0.557315</td>\n    </tr>\n    <tr>\n      <th>...</th>\n      <td>...</td>\n      <td>...</td>\n    </tr>\n    <tr>\n      <th>Hotspot Shield Free VPN Proxy &amp; Wi-Fi Security</th>\n      <td>0.251765</td>\n      <td>0.393284</td>\n    </tr>\n    <tr>\n      <th>Hotstar</th>\n      <td>0.038178</td>\n      <td>0.493964</td>\n    </tr>\n    <tr>\n      <th>Hotwire Hotel &amp; Car Rental App</th>\n      <td>0.187029</td>\n      <td>0.459717</td>\n    </tr>\n    <tr>\n      <th>Housing-Real Estate &amp; Property</th>\n      <td>-0.021427</td>\n      <td>0.378532</td>\n    </tr>\n    <tr>\n      <th>Houzz Interior Design Ideas</th>\n      <td>NaN</td>\n      <td>NaN</td>\n    </tr>\n  </tbody>\n</table>\n<p>1074 rows × 2 columns</p>\n</div>"
     },
     "metadata": {},
     "execution_count": 25
    }
   ],
   "source": [
    "pd.pivot_table(df_reviews_category, index='App', values=['Sentiment_Polarity', 'Sentiment_Subjectivity'], aggfunc='mean', dropna=False)"
   ]
  },
  {
   "cell_type": "code",
   "execution_count": 26,
   "metadata": {
    "tags": []
   },
   "outputs": [
    {
     "output_type": "stream",
     "name": "stdout",
     "text": "2.94 ms ± 684 µs per loop (mean ± std. dev. of 7 runs, 100 loops each)\n"
    }
   ],
   "source": [
    "%%timeit\n",
    "pd.pivot_table(df_reviews_category, index=['App'], values=['Sentiment_Polarity', 'Sentiment_Subjectivity'], aggfunc='mean', dropna=False)"
   ]
  },
  {
   "cell_type": "code",
   "execution_count": 27,
   "metadata": {},
   "outputs": [
    {
     "output_type": "execute_result",
     "data": {
      "text/plain": "                     App                                  Translated_Review  \\\n0  10 Best Foods for You  I like eat delicious food. That's I'm cooking ...   \n1  10 Best Foods for You    This help eating healthy exercise regular basis   \n2  10 Best Foods for You                                                NaN   \n3  10 Best Foods for You         Works great especially going grocery store   \n4  10 Best Foods for You                                       Best idea us   \n\n  Sentiment  Sentiment_Polarity  Sentiment_Subjectivity  \n0  Positive                1.00                0.533333  \n1  Positive                0.25                0.288462  \n2       NaN                 NaN                     NaN  \n3  Positive                0.40                0.875000  \n4  Positive                1.00                0.300000  ",
      "text/html": "<div>\n<style scoped>\n    .dataframe tbody tr th:only-of-type {\n        vertical-align: middle;\n    }\n\n    .dataframe tbody tr th {\n        vertical-align: top;\n    }\n\n    .dataframe thead th {\n        text-align: right;\n    }\n</style>\n<table border=\"1\" class=\"dataframe\">\n  <thead>\n    <tr style=\"text-align: right;\">\n      <th></th>\n      <th>App</th>\n      <th>Translated_Review</th>\n      <th>Sentiment</th>\n      <th>Sentiment_Polarity</th>\n      <th>Sentiment_Subjectivity</th>\n    </tr>\n  </thead>\n  <tbody>\n    <tr>\n      <th>0</th>\n      <td>10 Best Foods for You</td>\n      <td>I like eat delicious food. That's I'm cooking ...</td>\n      <td>Positive</td>\n      <td>1.00</td>\n      <td>0.533333</td>\n    </tr>\n    <tr>\n      <th>1</th>\n      <td>10 Best Foods for You</td>\n      <td>This help eating healthy exercise regular basis</td>\n      <td>Positive</td>\n      <td>0.25</td>\n      <td>0.288462</td>\n    </tr>\n    <tr>\n      <th>2</th>\n      <td>10 Best Foods for You</td>\n      <td>NaN</td>\n      <td>NaN</td>\n      <td>NaN</td>\n      <td>NaN</td>\n    </tr>\n    <tr>\n      <th>3</th>\n      <td>10 Best Foods for You</td>\n      <td>Works great especially going grocery store</td>\n      <td>Positive</td>\n      <td>0.40</td>\n      <td>0.875000</td>\n    </tr>\n    <tr>\n      <th>4</th>\n      <td>10 Best Foods for You</td>\n      <td>Best idea us</td>\n      <td>Positive</td>\n      <td>1.00</td>\n      <td>0.300000</td>\n    </tr>\n  </tbody>\n</table>\n</div>"
     },
     "metadata": {},
     "execution_count": 27
    }
   ],
   "source": [
    "reviews_mapper = {k: i for i, k in enumerate(df_reviews['App'].unique())}\n",
    "df_custom_category = df_reviews.copy()\n",
    "df_custom_category.head()"
   ]
  },
  {
   "cell_type": "code",
   "execution_count": 28,
   "metadata": {},
   "outputs": [
    {
     "output_type": "execute_result",
     "data": {
      "text/plain": "   App                                  Translated_Review Sentiment  \\\n0    0  I like eat delicious food. That's I'm cooking ...  Positive   \n1    0    This help eating healthy exercise regular basis  Positive   \n2    0                                                NaN       NaN   \n3    0         Works great especially going grocery store  Positive   \n4    0                                       Best idea us  Positive   \n\n   Sentiment_Polarity  Sentiment_Subjectivity  \n0                1.00                0.533333  \n1                0.25                0.288462  \n2                 NaN                     NaN  \n3                0.40                0.875000  \n4                1.00                0.300000  ",
      "text/html": "<div>\n<style scoped>\n    .dataframe tbody tr th:only-of-type {\n        vertical-align: middle;\n    }\n\n    .dataframe tbody tr th {\n        vertical-align: top;\n    }\n\n    .dataframe thead th {\n        text-align: right;\n    }\n</style>\n<table border=\"1\" class=\"dataframe\">\n  <thead>\n    <tr style=\"text-align: right;\">\n      <th></th>\n      <th>App</th>\n      <th>Translated_Review</th>\n      <th>Sentiment</th>\n      <th>Sentiment_Polarity</th>\n      <th>Sentiment_Subjectivity</th>\n    </tr>\n  </thead>\n  <tbody>\n    <tr>\n      <th>0</th>\n      <td>0</td>\n      <td>I like eat delicious food. That's I'm cooking ...</td>\n      <td>Positive</td>\n      <td>1.00</td>\n      <td>0.533333</td>\n    </tr>\n    <tr>\n      <th>1</th>\n      <td>0</td>\n      <td>This help eating healthy exercise regular basis</td>\n      <td>Positive</td>\n      <td>0.25</td>\n      <td>0.288462</td>\n    </tr>\n    <tr>\n      <th>2</th>\n      <td>0</td>\n      <td>NaN</td>\n      <td>NaN</td>\n      <td>NaN</td>\n      <td>NaN</td>\n    </tr>\n    <tr>\n      <th>3</th>\n      <td>0</td>\n      <td>Works great especially going grocery store</td>\n      <td>Positive</td>\n      <td>0.40</td>\n      <td>0.875000</td>\n    </tr>\n    <tr>\n      <th>4</th>\n      <td>0</td>\n      <td>Best idea us</td>\n      <td>Positive</td>\n      <td>1.00</td>\n      <td>0.300000</td>\n    </tr>\n  </tbody>\n</table>\n</div>"
     },
     "metadata": {},
     "execution_count": 28
    }
   ],
   "source": [
    "df_custom_category['App'].replace(reviews_mapper, inplace=True)\n",
    "df_custom_category.head()"
   ]
  },
  {
   "cell_type": "code",
   "execution_count": 29,
   "metadata": {
    "tags": []
   },
   "outputs": [
    {
     "output_type": "stream",
     "name": "stdout",
     "text": "<class 'pandas.core.frame.DataFrame'>\nRangeIndex: 64295 entries, 0 to 64294\nData columns (total 5 columns):\n #   Column                  Non-Null Count  Dtype  \n---  ------                  --------------  -----  \n 0   App                     64295 non-null  int64  \n 1   Translated_Review       37427 non-null  object \n 2   Sentiment               37432 non-null  object \n 3   Sentiment_Polarity      37432 non-null  float64\n 4   Sentiment_Subjectivity  37432 non-null  float64\ndtypes: float64(2), int64(1), object(2)\nmemory usage: 2.5+ MB\n"
    }
   ],
   "source": [
    "df_custom_category.info()"
   ]
  },
  {
   "cell_type": "code",
   "execution_count": 30,
   "metadata": {
    "tags": []
   },
   "outputs": [
    {
     "output_type": "stream",
     "name": "stdout",
     "text": "3.48 ms ± 756 µs per loop (mean ± std. dev. of 7 runs, 100 loops each)\n"
    }
   ],
   "source": [
    "%%timeit\n",
    "pd.pivot_table(df_custom_category, index=['App'], values=['Sentiment_Polarity', 'Sentiment_Subjectivity'], aggfunc='mean', dropna=False)"
   ]
  },
  {
   "cell_type": "code",
   "execution_count": 31,
   "metadata": {
    "tags": []
   },
   "outputs": [
    {
     "output_type": "stream",
     "name": "stdout",
     "text": "<class 'pandas.core.frame.DataFrame'>\nRangeIndex: 64295 entries, 0 to 64294\nData columns (total 5 columns):\n #   Column                  Non-Null Count  Dtype   \n---  ------                  --------------  -----   \n 0   App                     64295 non-null  category\n 1   Translated_Review       37427 non-null  object  \n 2   Sentiment               37432 non-null  object  \n 3   Sentiment_Polarity      37432 non-null  float64 \n 4   Sentiment_Subjectivity  37432 non-null  float64 \ndtypes: category(1), float64(2), object(2)\nmemory usage: 2.1+ MB\n"
    }
   ],
   "source": [
    "df_custom_category_2 = df_custom_category.astype({'App': 'category'})\n",
    "df_custom_category_2.info()"
   ]
  },
  {
   "cell_type": "code",
   "execution_count": 32,
   "metadata": {
    "tags": []
   },
   "outputs": [
    {
     "output_type": "stream",
     "name": "stdout",
     "text": "3.23 ms ± 832 µs per loop (mean ± std. dev. of 7 runs, 100 loops each)\n"
    }
   ],
   "source": [
    "%%timeit\n",
    "pd.pivot_table(df_custom_category_2, index=['App'], values=['Sentiment_Polarity', 'Sentiment_Subjectivity'], aggfunc='mean', dropna=False)"
   ]
  },
  {
   "cell_type": "code",
   "execution_count": 33,
   "metadata": {},
   "outputs": [
    {
     "output_type": "execute_result",
     "data": {
      "text/plain": "                 Started            Finished\n0    2018-01-01 08:00:00 2019-01-01 17:00:00\n1    2018-01-02 08:00:00 2019-01-02 17:00:00\n2    2018-01-03 08:00:00 2019-01-03 17:00:00\n3    2018-01-04 08:00:00 2019-01-04 17:00:00\n4    2018-01-05 08:00:00 2019-01-05 17:00:00\n...                  ...                 ...\n9995 2045-05-14 08:00:00 2046-05-14 17:00:00\n9996 2045-05-15 08:00:00 2046-05-15 17:00:00\n9997 2045-05-16 08:00:00 2046-05-16 17:00:00\n9998 2045-05-17 08:00:00 2046-05-17 17:00:00\n9999 2045-05-18 08:00:00 2046-05-18 17:00:00\n\n[10000 rows x 2 columns]",
      "text/html": "<div>\n<style scoped>\n    .dataframe tbody tr th:only-of-type {\n        vertical-align: middle;\n    }\n\n    .dataframe tbody tr th {\n        vertical-align: top;\n    }\n\n    .dataframe thead th {\n        text-align: right;\n    }\n</style>\n<table border=\"1\" class=\"dataframe\">\n  <thead>\n    <tr style=\"text-align: right;\">\n      <th></th>\n      <th>Started</th>\n      <th>Finished</th>\n    </tr>\n  </thead>\n  <tbody>\n    <tr>\n      <th>0</th>\n      <td>2018-01-01 08:00:00</td>\n      <td>2019-01-01 17:00:00</td>\n    </tr>\n    <tr>\n      <th>1</th>\n      <td>2018-01-02 08:00:00</td>\n      <td>2019-01-02 17:00:00</td>\n    </tr>\n    <tr>\n      <th>2</th>\n      <td>2018-01-03 08:00:00</td>\n      <td>2019-01-03 17:00:00</td>\n    </tr>\n    <tr>\n      <th>3</th>\n      <td>2018-01-04 08:00:00</td>\n      <td>2019-01-04 17:00:00</td>\n    </tr>\n    <tr>\n      <th>4</th>\n      <td>2018-01-05 08:00:00</td>\n      <td>2019-01-05 17:00:00</td>\n    </tr>\n    <tr>\n      <th>...</th>\n      <td>...</td>\n      <td>...</td>\n    </tr>\n    <tr>\n      <th>9995</th>\n      <td>2045-05-14 08:00:00</td>\n      <td>2046-05-14 17:00:00</td>\n    </tr>\n    <tr>\n      <th>9996</th>\n      <td>2045-05-15 08:00:00</td>\n      <td>2046-05-15 17:00:00</td>\n    </tr>\n    <tr>\n      <th>9997</th>\n      <td>2045-05-16 08:00:00</td>\n      <td>2046-05-16 17:00:00</td>\n    </tr>\n    <tr>\n      <th>9998</th>\n      <td>2045-05-17 08:00:00</td>\n      <td>2046-05-17 17:00:00</td>\n    </tr>\n    <tr>\n      <th>9999</th>\n      <td>2045-05-18 08:00:00</td>\n      <td>2046-05-18 17:00:00</td>\n    </tr>\n  </tbody>\n</table>\n<p>10000 rows × 2 columns</p>\n</div>"
     },
     "metadata": {},
     "execution_count": 33
    }
   ],
   "source": [
    "# Timeseries \n",
    "# https://pandas.pydata.org/pandas-docs/stable/user_guide/timeseries.html\n",
    "df_dates = pd.DataFrame({\n",
    "    'Started': pd.date_range('2018-01-01 8:00:00', periods=10000, freq='D'),\n",
    "    'Finished': pd.date_range('2019-01-01 17:00:00', periods=10000, freq='D')\n",
    "})\n",
    "df_dates"
   ]
  },
  {
   "cell_type": "code",
   "execution_count": 34,
   "metadata": {
    "tags": []
   },
   "outputs": [
    {
     "output_type": "stream",
     "name": "stdout",
     "text": "<class 'pandas.core.frame.DataFrame'>\nRangeIndex: 10000 entries, 0 to 9999\nData columns (total 2 columns):\n #   Column    Non-Null Count  Dtype         \n---  ------    --------------  -----         \n 0   Started   10000 non-null  datetime64[ns]\n 1   Finished  10000 non-null  datetime64[ns]\ndtypes: datetime64[ns](2)\nmemory usage: 156.4 KB\n"
    }
   ],
   "source": [
    "df_dates.info()"
   ]
  },
  {
   "cell_type": "code",
   "execution_count": 35,
   "metadata": {},
   "outputs": [
    {
     "output_type": "execute_result",
     "data": {
      "text/plain": "0       8769.0\n1       8769.0\n2       8769.0\n3       8769.0\n4       8769.0\n         ...  \n9995    8769.0\n9996    8769.0\n9997    8769.0\n9998    8769.0\n9999    8769.0\nLength: 10000, dtype: float64"
     },
     "metadata": {},
     "execution_count": 35
    }
   ],
   "source": [
    "(df_dates.Finished - df_dates.Started).astype('timedelta64[h]')"
   ]
  },
  {
   "cell_type": "code",
   "execution_count": 36,
   "metadata": {
    "tags": []
   },
   "outputs": [
    {
     "output_type": "stream",
     "name": "stdout",
     "text": "663 µs ± 187 µs per loop (mean ± std. dev. of 7 runs, 1000 loops each)\n"
    }
   ],
   "source": [
    "%%timeit\n",
    "(df_dates.Finished - df_dates.Started).astype('timedelta64[h]')"
   ]
  },
  {
   "cell_type": "code",
   "execution_count": 37,
   "metadata": {
    "tags": []
   },
   "outputs": [
    {
     "output_type": "stream",
     "name": "stdout",
     "text": "490 µs ± 78.7 µs per loop (mean ± std. dev. of 7 runs, 1000 loops each)\n"
    }
   ],
   "source": [
    "%%timeit\n",
    "(df_dates.Finished - df_dates.Started) / pd.Timedelta(hours=1)"
   ]
  },
  {
   "cell_type": "code",
   "execution_count": 38,
   "metadata": {},
   "outputs": [],
   "source": [
    "df_dates_int = pd.DataFrame({\n",
    "    'Started': df_dates.Started.astype(int) / 10**9,\n",
    "    'Finished': df_dates.Finished.astype(int) / 10**9\n",
    "})"
   ]
  },
  {
   "cell_type": "code",
   "execution_count": 39,
   "metadata": {},
   "outputs": [
    {
     "output_type": "execute_result",
     "data": {
      "text/plain": "           Started      Finished\n0     1.514794e+09  1.546362e+09\n1     1.514880e+09  1.546448e+09\n2     1.514966e+09  1.546535e+09\n3     1.515053e+09  1.546621e+09\n4     1.515139e+09  1.546708e+09\n...            ...           ...\n9995  2.378362e+09  2.409930e+09\n9996  2.378448e+09  2.410016e+09\n9997  2.378534e+09  2.410103e+09\n9998  2.378621e+09  2.410189e+09\n9999  2.378707e+09  2.410276e+09\n\n[10000 rows x 2 columns]",
      "text/html": "<div>\n<style scoped>\n    .dataframe tbody tr th:only-of-type {\n        vertical-align: middle;\n    }\n\n    .dataframe tbody tr th {\n        vertical-align: top;\n    }\n\n    .dataframe thead th {\n        text-align: right;\n    }\n</style>\n<table border=\"1\" class=\"dataframe\">\n  <thead>\n    <tr style=\"text-align: right;\">\n      <th></th>\n      <th>Started</th>\n      <th>Finished</th>\n    </tr>\n  </thead>\n  <tbody>\n    <tr>\n      <th>0</th>\n      <td>1.514794e+09</td>\n      <td>1.546362e+09</td>\n    </tr>\n    <tr>\n      <th>1</th>\n      <td>1.514880e+09</td>\n      <td>1.546448e+09</td>\n    </tr>\n    <tr>\n      <th>2</th>\n      <td>1.514966e+09</td>\n      <td>1.546535e+09</td>\n    </tr>\n    <tr>\n      <th>3</th>\n      <td>1.515053e+09</td>\n      <td>1.546621e+09</td>\n    </tr>\n    <tr>\n      <th>4</th>\n      <td>1.515139e+09</td>\n      <td>1.546708e+09</td>\n    </tr>\n    <tr>\n      <th>...</th>\n      <td>...</td>\n      <td>...</td>\n    </tr>\n    <tr>\n      <th>9995</th>\n      <td>2.378362e+09</td>\n      <td>2.409930e+09</td>\n    </tr>\n    <tr>\n      <th>9996</th>\n      <td>2.378448e+09</td>\n      <td>2.410016e+09</td>\n    </tr>\n    <tr>\n      <th>9997</th>\n      <td>2.378534e+09</td>\n      <td>2.410103e+09</td>\n    </tr>\n    <tr>\n      <th>9998</th>\n      <td>2.378621e+09</td>\n      <td>2.410189e+09</td>\n    </tr>\n    <tr>\n      <th>9999</th>\n      <td>2.378707e+09</td>\n      <td>2.410276e+09</td>\n    </tr>\n  </tbody>\n</table>\n<p>10000 rows × 2 columns</p>\n</div>"
     },
     "metadata": {},
     "execution_count": 39
    }
   ],
   "source": [
    "df_dates_int"
   ]
  },
  {
   "cell_type": "code",
   "execution_count": 40,
   "metadata": {
    "tags": []
   },
   "outputs": [
    {
     "output_type": "stream",
     "name": "stdout",
     "text": "<class 'pandas.core.frame.DataFrame'>\nRangeIndex: 10000 entries, 0 to 9999\nData columns (total 2 columns):\n #   Column    Non-Null Count  Dtype  \n---  ------    --------------  -----  \n 0   Started   10000 non-null  float64\n 1   Finished  10000 non-null  float64\ndtypes: float64(2)\nmemory usage: 156.4 KB\n"
    }
   ],
   "source": [
    "df_dates_int.info()"
   ]
  },
  {
   "cell_type": "code",
   "execution_count": 41,
   "metadata": {},
   "outputs": [
    {
     "output_type": "execute_result",
     "data": {
      "text/plain": "0       8769.0\n1       8769.0\n2       8769.0\n3       8769.0\n4       8769.0\n         ...  \n9995    8769.0\n9996    8769.0\n9997    8769.0\n9998    8769.0\n9999    8769.0\nLength: 10000, dtype: float64"
     },
     "metadata": {},
     "execution_count": 41
    }
   ],
   "source": [
    "(df_dates_int.Finished - df_dates_int.Started) / 3600"
   ]
  },
  {
   "cell_type": "code",
   "execution_count": 42,
   "metadata": {
    "tags": []
   },
   "outputs": [
    {
     "output_type": "stream",
     "name": "stdout",
     "text": "266 µs ± 75.8 µs per loop (mean ± std. dev. of 7 runs, 1000 loops each)\n"
    }
   ],
   "source": [
    "%%timeit\n",
    "# Можно еще ускорить, если использовать numpy\n",
    "(df_dates_int.Finished - df_dates_int.Started) / 3600"
   ]
  },
  {
   "cell_type": "code",
   "execution_count": null,
   "metadata": {},
   "outputs": [],
   "source": []
  }
 ],
 "metadata": {
  "language_info": {
   "codemirror_mode": {
    "name": "ipython",
    "version": 3
   },
   "file_extension": ".py",
   "mimetype": "text/x-python",
   "name": "python",
   "nbconvert_exporter": "python",
   "pygments_lexer": "ipython3",
   "version": 3
  },
  "orig_nbformat": 2,
  "kernelspec": {
   "name": "python_defaultSpec_1604179630844",
   "display_name": "Python 3.8.2 64-bit ('venv': virtualenv)"
  }
 },
 "nbformat": 4,
 "nbformat_minor": 2
}