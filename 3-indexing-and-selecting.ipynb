{
 "cells": [
  {
   "cell_type": "code",
   "execution_count": 2,
   "metadata": {},
   "outputs": [
    {
     "output_type": "execute_result",
     "data": {
      "text/plain": "          distance  population\nAlabama          0         4.8\nAlaska         300         0.7\nArizona        600         6.4\nArkansas      1000         2.9",
      "text/html": "<div>\n<style scoped>\n    .dataframe tbody tr th:only-of-type {\n        vertical-align: middle;\n    }\n\n    .dataframe tbody tr th {\n        vertical-align: top;\n    }\n\n    .dataframe thead th {\n        text-align: right;\n    }\n</style>\n<table border=\"1\" class=\"dataframe\">\n  <thead>\n    <tr style=\"text-align: right;\">\n      <th></th>\n      <th>distance</th>\n      <th>population</th>\n    </tr>\n  </thead>\n  <tbody>\n    <tr>\n      <th>Alabama</th>\n      <td>0</td>\n      <td>4.8</td>\n    </tr>\n    <tr>\n      <th>Alaska</th>\n      <td>300</td>\n      <td>0.7</td>\n    </tr>\n    <tr>\n      <th>Arizona</th>\n      <td>600</td>\n      <td>6.4</td>\n    </tr>\n    <tr>\n      <th>Arkansas</th>\n      <td>1000</td>\n      <td>2.9</td>\n    </tr>\n  </tbody>\n</table>\n</div>"
     },
     "metadata": {},
     "execution_count": 2
    }
   ],
   "source": [
    "import pandas as pd\n",
    "\n",
    "data = {'distance': [0, 300, 600, 1000],\n",
    "        'population': [4.8, 0.7, 6.4, 2.9]}\n",
    "df = pd.DataFrame(data, index=['Alabama','Alaska','Arizona','Arkansas'])\n",
    "df"
   ]
  },
  {
   "cell_type": "code",
   "execution_count": 3,
   "metadata": {},
   "outputs": [
    {
     "output_type": "execute_result",
     "data": {
      "text/plain": "Index(['Alabama', 'Alaska', 'Arizona', 'Arkansas'], dtype='object')"
     },
     "metadata": {},
     "execution_count": 3
    }
   ],
   "source": [
    "df.index"
   ]
  },
  {
   "cell_type": "code",
   "execution_count": 4,
   "metadata": {
    "tags": []
   },
   "outputs": [
    {
     "output_type": "stream",
     "name": "stdout",
     "text": "<class 'pandas.core.series.Series'>\n"
    },
    {
     "output_type": "execute_result",
     "data": {
      "text/plain": "Alabama     4.8\nAlaska      0.7\nArizona     6.4\nArkansas    2.9\nName: population, dtype: float64"
     },
     "metadata": {},
     "execution_count": 4
    }
   ],
   "source": [
    "print(type(df['population']))\n",
    "df['population']"
   ]
  },
  {
   "cell_type": "code",
   "execution_count": 5,
   "metadata": {
    "tags": []
   },
   "outputs": [
    {
     "output_type": "stream",
     "name": "stdout",
     "text": "<class 'pandas.core.series.Series'>\n"
    },
    {
     "output_type": "execute_result",
     "data": {
      "text/plain": "          population\nAlabama          4.8\nAlaska           0.7\nArizona          6.4\nArkansas         2.9",
      "text/html": "<div>\n<style scoped>\n    .dataframe tbody tr th:only-of-type {\n        vertical-align: middle;\n    }\n\n    .dataframe tbody tr th {\n        vertical-align: top;\n    }\n\n    .dataframe thead th {\n        text-align: right;\n    }\n</style>\n<table border=\"1\" class=\"dataframe\">\n  <thead>\n    <tr style=\"text-align: right;\">\n      <th></th>\n      <th>population</th>\n    </tr>\n  </thead>\n  <tbody>\n    <tr>\n      <th>Alabama</th>\n      <td>4.8</td>\n    </tr>\n    <tr>\n      <th>Alaska</th>\n      <td>0.7</td>\n    </tr>\n    <tr>\n      <th>Arizona</th>\n      <td>6.4</td>\n    </tr>\n    <tr>\n      <th>Arkansas</th>\n      <td>2.9</td>\n    </tr>\n  </tbody>\n</table>\n</div>"
     },
     "metadata": {},
     "execution_count": 5
    }
   ],
   "source": [
    "print(type(df['population']))\n",
    "df[['population']]"
   ]
  },
  {
   "cell_type": "code",
   "execution_count": 6,
   "metadata": {
    "tags": []
   },
   "outputs": [
    {
     "output_type": "stream",
     "name": "stdout",
     "text": "<class 'pandas.core.series.Series'>\n"
    },
    {
     "output_type": "execute_result",
     "data": {
      "text/plain": "distance      0.0\npopulation    4.8\nName: Alabama, dtype: float64"
     },
     "metadata": {},
     "execution_count": 6
    }
   ],
   "source": [
    "print(type(df.loc['Alabama']))\n",
    "df.loc['Alabama']"
   ]
  },
  {
   "cell_type": "code",
   "execution_count": 8,
   "metadata": {},
   "outputs": [
    {
     "output_type": "execute_result",
     "data": {
      "text/plain": "          distance  population\nAlabama          0          10\nAlaska         300          10\nArizona        600          10\nArkansas      1000          10",
      "text/html": "<div>\n<style scoped>\n    .dataframe tbody tr th:only-of-type {\n        vertical-align: middle;\n    }\n\n    .dataframe tbody tr th {\n        vertical-align: top;\n    }\n\n    .dataframe thead th {\n        text-align: right;\n    }\n</style>\n<table border=\"1\" class=\"dataframe\">\n  <thead>\n    <tr style=\"text-align: right;\">\n      <th></th>\n      <th>distance</th>\n      <th>population</th>\n    </tr>\n  </thead>\n  <tbody>\n    <tr>\n      <th>Alabama</th>\n      <td>0</td>\n      <td>10</td>\n    </tr>\n    <tr>\n      <th>Alaska</th>\n      <td>300</td>\n      <td>10</td>\n    </tr>\n    <tr>\n      <th>Arizona</th>\n      <td>600</td>\n      <td>10</td>\n    </tr>\n    <tr>\n      <th>Arkansas</th>\n      <td>1000</td>\n      <td>10</td>\n    </tr>\n  </tbody>\n</table>\n</div>"
     },
     "metadata": {},
     "execution_count": 8
    }
   ],
   "source": [
    "df_copy = df.copy()\n",
    "df_copy.loc[:, 'population'] = 10\n",
    "df_copy"
   ]
  },
  {
   "cell_type": "code",
   "execution_count": 62,
   "metadata": {},
   "outputs": [
    {
     "output_type": "execute_result",
     "data": {
      "text/plain": "distance      300.0\npopulation      0.7\nName: Alaska, dtype: float64"
     },
     "metadata": {},
     "execution_count": 62
    }
   ],
   "source": [
    "df.iloc[1]"
   ]
  },
  {
   "cell_type": "code",
   "execution_count": 120,
   "metadata": {},
   "outputs": [
    {
     "output_type": "execute_result",
     "data": {
      "text/plain": "Alaska     0.7\nArizona    6.4\nName: population, dtype: float64"
     },
     "metadata": {},
     "execution_count": 120
    }
   ],
   "source": [
    "df.iloc[1:3, 1]"
   ]
  },
  {
   "cell_type": "code",
   "execution_count": 66,
   "metadata": {},
   "outputs": [
    {
     "output_type": "execute_result",
     "data": {
      "text/plain": "         distance  population\nAlabama         0         4.8\nAlaska        300         0.7\nArizona       600         6.4",
      "text/html": "<div>\n<style scoped>\n    .dataframe tbody tr th:only-of-type {\n        vertical-align: middle;\n    }\n\n    .dataframe tbody tr th {\n        vertical-align: top;\n    }\n\n    .dataframe thead th {\n        text-align: right;\n    }\n</style>\n<table border=\"1\" class=\"dataframe\">\n  <thead>\n    <tr style=\"text-align: right;\">\n      <th></th>\n      <th>distance</th>\n      <th>population</th>\n    </tr>\n  </thead>\n  <tbody>\n    <tr>\n      <th>Alabama</th>\n      <td>0</td>\n      <td>4.8</td>\n    </tr>\n    <tr>\n      <th>Alaska</th>\n      <td>300</td>\n      <td>0.7</td>\n    </tr>\n    <tr>\n      <th>Arizona</th>\n      <td>600</td>\n      <td>6.4</td>\n    </tr>\n  </tbody>\n</table>\n</div>"
     },
     "metadata": {},
     "execution_count": 66
    }
   ],
   "source": [
    "df.loc['Alabama':'Arizona']"
   ]
  },
  {
   "cell_type": "code",
   "execution_count": 110,
   "metadata": {},
   "outputs": [
    {
     "output_type": "execute_result",
     "data": {
      "text/plain": "         distance  population\nAlabama         0         4.8\nAlaska        300         0.7\nArizona       600         6.4",
      "text/html": "<div>\n<style scoped>\n    .dataframe tbody tr th:only-of-type {\n        vertical-align: middle;\n    }\n\n    .dataframe tbody tr th {\n        vertical-align: top;\n    }\n\n    .dataframe thead th {\n        text-align: right;\n    }\n</style>\n<table border=\"1\" class=\"dataframe\">\n  <thead>\n    <tr style=\"text-align: right;\">\n      <th></th>\n      <th>distance</th>\n      <th>population</th>\n    </tr>\n  </thead>\n  <tbody>\n    <tr>\n      <th>Alabama</th>\n      <td>0</td>\n      <td>4.8</td>\n    </tr>\n    <tr>\n      <th>Alaska</th>\n      <td>300</td>\n      <td>0.7</td>\n    </tr>\n    <tr>\n      <th>Arizona</th>\n      <td>600</td>\n      <td>6.4</td>\n    </tr>\n  </tbody>\n</table>\n</div>"
     },
     "metadata": {},
     "execution_count": 110
    }
   ],
   "source": [
    "df['Alabama':'Arizona']"
   ]
  },
  {
   "cell_type": "code",
   "execution_count": 84,
   "metadata": {},
   "outputs": [
    {
     "output_type": "execute_result",
     "data": {
      "text/plain": "         distance  population\nAlabama         0         4.8\nArizona       600         6.4",
      "text/html": "<div>\n<style scoped>\n    .dataframe tbody tr th:only-of-type {\n        vertical-align: middle;\n    }\n\n    .dataframe tbody tr th {\n        vertical-align: top;\n    }\n\n    .dataframe thead th {\n        text-align: right;\n    }\n</style>\n<table border=\"1\" class=\"dataframe\">\n  <thead>\n    <tr style=\"text-align: right;\">\n      <th></th>\n      <th>distance</th>\n      <th>population</th>\n    </tr>\n  </thead>\n  <tbody>\n    <tr>\n      <th>Alabama</th>\n      <td>0</td>\n      <td>4.8</td>\n    </tr>\n    <tr>\n      <th>Arizona</th>\n      <td>600</td>\n      <td>6.4</td>\n    </tr>\n  </tbody>\n</table>\n</div>"
     },
     "metadata": {},
     "execution_count": 84
    }
   ],
   "source": [
    "df.loc[['Alabama','Arizona']]"
   ]
  },
  {
   "cell_type": "code",
   "execution_count": 85,
   "metadata": {},
   "outputs": [
    {
     "output_type": "execute_result",
     "data": {
      "text/plain": "0"
     },
     "metadata": {},
     "execution_count": 85
    }
   ],
   "source": [
    "df.loc['Alabama', 'distance']"
   ]
  },
  {
   "cell_type": "code",
   "execution_count": 94,
   "metadata": {},
   "outputs": [
    {
     "output_type": "execute_result",
     "data": {
      "text/plain": "0"
     },
     "metadata": {},
     "execution_count": 94
    }
   ],
   "source": [
    "df.at['Alabama', 'distance']"
   ]
  },
  {
   "cell_type": "code",
   "execution_count": 97,
   "metadata": {},
   "outputs": [
    {
     "output_type": "execute_result",
     "data": {
      "text/plain": "Alabama      0\nAlabama    300\nName: distance, dtype: int64"
     },
     "metadata": {},
     "execution_count": 97
    }
   ],
   "source": [
    "df_at_1 = pd.DataFrame(data, index=['Alabama','Alabama','Arizona','Arkansas'])\n",
    "df_at_1.at['Alabama', 'distance']"
   ]
  },
  {
   "cell_type": "code",
   "execution_count": 70,
   "metadata": {},
   "outputs": [
    {
     "output_type": "execute_result",
     "data": {
      "text/plain": "          distance  population\nAlabama          0         4.8\nAlaska         300         0.7\nArizona        600         6.4\nArkansas      1000         2.9",
      "text/html": "<div>\n<style scoped>\n    .dataframe tbody tr th:only-of-type {\n        vertical-align: middle;\n    }\n\n    .dataframe tbody tr th {\n        vertical-align: top;\n    }\n\n    .dataframe thead th {\n        text-align: right;\n    }\n</style>\n<table border=\"1\" class=\"dataframe\">\n  <thead>\n    <tr style=\"text-align: right;\">\n      <th></th>\n      <th>distance</th>\n      <th>population</th>\n    </tr>\n  </thead>\n  <tbody>\n    <tr>\n      <th>Alabama</th>\n      <td>0</td>\n      <td>4.8</td>\n    </tr>\n    <tr>\n      <th>Alaska</th>\n      <td>300</td>\n      <td>0.7</td>\n    </tr>\n    <tr>\n      <th>Arizona</th>\n      <td>600</td>\n      <td>6.4</td>\n    </tr>\n    <tr>\n      <th>Arkansas</th>\n      <td>1000</td>\n      <td>2.9</td>\n    </tr>\n  </tbody>\n</table>\n</div>"
     },
     "metadata": {},
     "execution_count": 70
    }
   ],
   "source": [
    "df"
   ]
  },
  {
   "cell_type": "code",
   "execution_count": 71,
   "metadata": {},
   "outputs": [
    {
     "output_type": "execute_result",
     "data": {
      "text/plain": "Alabama      0\nAlaska     300\nArizona    600\nName: distance, dtype: int64"
     },
     "metadata": {},
     "execution_count": 71
    }
   ],
   "source": [
    "df.loc['Alabama':'Arizona', 'distance']"
   ]
  },
  {
   "cell_type": "code",
   "execution_count": 72,
   "metadata": {},
   "outputs": [
    {
     "output_type": "execute_result",
     "data": {
      "text/plain": "Alabama        0\nAlaska       300\nArizona      600\nArkansas    1000\nName: distance, dtype: int64"
     },
     "metadata": {},
     "execution_count": 72
    }
   ],
   "source": [
    "df.loc[:, 'distance']"
   ]
  },
  {
   "cell_type": "code",
   "execution_count": 75,
   "metadata": {},
   "outputs": [
    {
     "output_type": "execute_result",
     "data": {
      "text/plain": "          distance  population\nAlabama          0         4.8\nAlaska         300         0.7\nArizona        600         6.4\nArkansas      1000         2.9",
      "text/html": "<div>\n<style scoped>\n    .dataframe tbody tr th:only-of-type {\n        vertical-align: middle;\n    }\n\n    .dataframe tbody tr th {\n        vertical-align: top;\n    }\n\n    .dataframe thead th {\n        text-align: right;\n    }\n</style>\n<table border=\"1\" class=\"dataframe\">\n  <thead>\n    <tr style=\"text-align: right;\">\n      <th></th>\n      <th>distance</th>\n      <th>population</th>\n    </tr>\n  </thead>\n  <tbody>\n    <tr>\n      <th>Alabama</th>\n      <td>0</td>\n      <td>4.8</td>\n    </tr>\n    <tr>\n      <th>Alaska</th>\n      <td>300</td>\n      <td>0.7</td>\n    </tr>\n    <tr>\n      <th>Arizona</th>\n      <td>600</td>\n      <td>6.4</td>\n    </tr>\n    <tr>\n      <th>Arkansas</th>\n      <td>1000</td>\n      <td>2.9</td>\n    </tr>\n  </tbody>\n</table>\n</div>"
     },
     "metadata": {},
     "execution_count": 75
    }
   ],
   "source": [
    "df"
   ]
  },
  {
   "cell_type": "code",
   "execution_count": 78,
   "metadata": {},
   "outputs": [
    {
     "output_type": "execute_result",
     "data": {
      "text/plain": "          distance  population  rating\nAlabama          0         4.8   10000\nAlaska         300         0.7   10000\nArizona        600         6.4   10000\nArkansas      1000         2.9   10000",
      "text/html": "<div>\n<style scoped>\n    .dataframe tbody tr th:only-of-type {\n        vertical-align: middle;\n    }\n\n    .dataframe tbody tr th {\n        vertical-align: top;\n    }\n\n    .dataframe thead th {\n        text-align: right;\n    }\n</style>\n<table border=\"1\" class=\"dataframe\">\n  <thead>\n    <tr style=\"text-align: right;\">\n      <th></th>\n      <th>distance</th>\n      <th>population</th>\n      <th>rating</th>\n    </tr>\n  </thead>\n  <tbody>\n    <tr>\n      <th>Alabama</th>\n      <td>0</td>\n      <td>4.8</td>\n      <td>10000</td>\n    </tr>\n    <tr>\n      <th>Alaska</th>\n      <td>300</td>\n      <td>0.7</td>\n      <td>10000</td>\n    </tr>\n    <tr>\n      <th>Arizona</th>\n      <td>600</td>\n      <td>6.4</td>\n      <td>10000</td>\n    </tr>\n    <tr>\n      <th>Arkansas</th>\n      <td>1000</td>\n      <td>2.9</td>\n      <td>10000</td>\n    </tr>\n  </tbody>\n</table>\n</div>"
     },
     "metadata": {},
     "execution_count": 78
    }
   ],
   "source": [
    "df_loc_1 = df.copy()\n",
    "df_loc_1.loc[:, 'rating'] = 10000\n",
    "df_loc_1"
   ]
  },
  {
   "cell_type": "code",
   "execution_count": 80,
   "metadata": {},
   "outputs": [
    {
     "output_type": "execute_result",
     "data": {
      "text/plain": "          distance  population rating\nAlabama          0         4.8   cool\nAlaska         300         0.7    NaN\nArizona        600         6.4   cool\nArkansas      1000         2.9    NaN",
      "text/html": "<div>\n<style scoped>\n    .dataframe tbody tr th:only-of-type {\n        vertical-align: middle;\n    }\n\n    .dataframe tbody tr th {\n        vertical-align: top;\n    }\n\n    .dataframe thead th {\n        text-align: right;\n    }\n</style>\n<table border=\"1\" class=\"dataframe\">\n  <thead>\n    <tr style=\"text-align: right;\">\n      <th></th>\n      <th>distance</th>\n      <th>population</th>\n      <th>rating</th>\n    </tr>\n  </thead>\n  <tbody>\n    <tr>\n      <th>Alabama</th>\n      <td>0</td>\n      <td>4.8</td>\n      <td>cool</td>\n    </tr>\n    <tr>\n      <th>Alaska</th>\n      <td>300</td>\n      <td>0.7</td>\n      <td>NaN</td>\n    </tr>\n    <tr>\n      <th>Arizona</th>\n      <td>600</td>\n      <td>6.4</td>\n      <td>cool</td>\n    </tr>\n    <tr>\n      <th>Arkansas</th>\n      <td>1000</td>\n      <td>2.9</td>\n      <td>NaN</td>\n    </tr>\n  </tbody>\n</table>\n</div>"
     },
     "metadata": {},
     "execution_count": 80
    }
   ],
   "source": [
    "df_loc_2 = df.copy()\n",
    "df_loc_2.loc[df_loc_2['population'] > 3, 'rating'] = 'cool'\n",
    "df_loc_2"
   ]
  },
  {
   "cell_type": "code",
   "execution_count": 81,
   "metadata": {},
   "outputs": [
    {
     "output_type": "execute_result",
     "data": {
      "text/plain": "Alabama      True\nAlaska      False\nArizona      True\nArkansas    False\nName: population, dtype: bool"
     },
     "metadata": {},
     "execution_count": 81
    }
   ],
   "source": [
    "df['population'] > 3"
   ]
  },
  {
   "cell_type": "code",
   "execution_count": 82,
   "metadata": {},
   "outputs": [
    {
     "output_type": "execute_result",
     "data": {
      "text/plain": "         distance  population\nAlabama         0         4.8\nArizona       600         6.4",
      "text/html": "<div>\n<style scoped>\n    .dataframe tbody tr th:only-of-type {\n        vertical-align: middle;\n    }\n\n    .dataframe tbody tr th {\n        vertical-align: top;\n    }\n\n    .dataframe thead th {\n        text-align: right;\n    }\n</style>\n<table border=\"1\" class=\"dataframe\">\n  <thead>\n    <tr style=\"text-align: right;\">\n      <th></th>\n      <th>distance</th>\n      <th>population</th>\n    </tr>\n  </thead>\n  <tbody>\n    <tr>\n      <th>Alabama</th>\n      <td>0</td>\n      <td>4.8</td>\n    </tr>\n    <tr>\n      <th>Arizona</th>\n      <td>600</td>\n      <td>6.4</td>\n    </tr>\n  </tbody>\n</table>\n</div>"
     },
     "metadata": {},
     "execution_count": 82
    }
   ],
   "source": [
    "mask = [True, False, True, False]\n",
    "df[mask]"
   ]
  },
  {
   "cell_type": "code",
   "execution_count": 108,
   "metadata": {},
   "outputs": [
    {
     "output_type": "execute_result",
     "data": {
      "text/plain": "Alabama     False\nAlaska      False\nArizona      True\nArkansas     True\ndtype: bool"
     },
     "metadata": {},
     "execution_count": 108
    }
   ],
   "source": [
    "ser_1 = pd.Series([True, False, True, True], index=['Alabama','Alaska','Arizona','Arkansas'])\n",
    "ser_2 = pd.Series([False, False, True, True], index=['Alabama','Alaska','Arizona','Arkansas'])\n",
    "ser_1 & ser_2"
   ]
  },
  {
   "cell_type": "code",
   "execution_count": 109,
   "metadata": {},
   "outputs": [
    {
     "output_type": "execute_result",
     "data": {
      "text/plain": "          distance  population\nArizona        600         6.4\nArkansas      1000         2.9",
      "text/html": "<div>\n<style scoped>\n    .dataframe tbody tr th:only-of-type {\n        vertical-align: middle;\n    }\n\n    .dataframe tbody tr th {\n        vertical-align: top;\n    }\n\n    .dataframe thead th {\n        text-align: right;\n    }\n</style>\n<table border=\"1\" class=\"dataframe\">\n  <thead>\n    <tr style=\"text-align: right;\">\n      <th></th>\n      <th>distance</th>\n      <th>population</th>\n    </tr>\n  </thead>\n  <tbody>\n    <tr>\n      <th>Arizona</th>\n      <td>600</td>\n      <td>6.4</td>\n    </tr>\n    <tr>\n      <th>Arkansas</th>\n      <td>1000</td>\n      <td>2.9</td>\n    </tr>\n  </tbody>\n</table>\n</div>"
     },
     "metadata": {},
     "execution_count": 109
    }
   ],
   "source": [
    "df[ser_1 & ser_2]"
   ]
  }
 ],
 "metadata": {
  "language_info": {
   "codemirror_mode": {
    "name": "ipython",
    "version": 3
   },
   "file_extension": ".py",
   "mimetype": "text/x-python",
   "name": "python",
   "nbconvert_exporter": "python",
   "pygments_lexer": "ipython3",
   "version": 3
  },
  "orig_nbformat": 2,
  "kernelspec": {
   "name": "python_defaultSpec_1603452616061",
   "display_name": "Python 3.8.2 64-bit ('venv': virtualenv)"
  }
 },
 "nbformat": 4,
 "nbformat_minor": 2
}